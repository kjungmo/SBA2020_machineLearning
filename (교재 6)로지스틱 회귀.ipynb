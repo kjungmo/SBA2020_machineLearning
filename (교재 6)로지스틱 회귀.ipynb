{
 "cells": [
  {
   "cell_type": "markdown",
   "metadata": {},
   "source": [
    "# 로지스틱 회귀"
   ]
  },
  {
   "cell_type": "code",
   "execution_count": 1,
   "metadata": {},
   "outputs": [],
   "source": [
    "import numpy as np\n",
    "import matplotlib.pyplot as plt"
   ]
  },
  {
   "cell_type": "markdown",
   "metadata": {},
   "source": [
    "* 이진 분류기"
   ]
  },
  {
   "cell_type": "code",
   "execution_count": 2,
   "metadata": {},
   "outputs": [
    {
     "data": {
      "text/plain": [
       "['data', 'target', 'target_names', 'DESCR', 'feature_names', 'filename']"
      ]
     },
     "execution_count": 2,
     "metadata": {},
     "output_type": "execute_result"
    }
   ],
   "source": [
    "from sklearn import datasets\n",
    "iris = datasets.load_iris()\n",
    "list(iris.keys())"
   ]
  },
  {
   "cell_type": "code",
   "execution_count": 3,
   "metadata": {},
   "outputs": [],
   "source": [
    "X = iris[\"data\"][:, 3:]  # 꽃잎 넓이\n",
    "y = (iris[\"target\"] == 2).astype(np.int)  # Iris-Virginica이면 1 아니면 0"
   ]
  },
  {
   "cell_type": "code",
   "execution_count": 12,
   "metadata": {},
   "outputs": [
    {
     "data": {
      "text/plain": [
       "LogisticRegression(C=1.0, class_weight=None, dual=False, fit_intercept=True,\n",
       "                   intercept_scaling=1, l1_ratio=None, max_iter=100,\n",
       "                   multi_class='auto', n_jobs=None, penalty='l2',\n",
       "                   random_state=42, solver='lbfgs', tol=0.0001, verbose=0,\n",
       "                   warm_start=False)"
      ]
     },
     "execution_count": 12,
     "metadata": {},
     "output_type": "execute_result"
    }
   ],
   "source": [
    "from sklearn.linear_model import LogisticRegression\n",
    "log_reg = LogisticRegression(random_state=42)\n",
    "log_reg.fit(X, y)"
   ]
  },
  {
   "cell_type": "code",
   "execution_count": 16,
   "metadata": {},
   "outputs": [
    {
     "data": {
      "image/png": "[encoded data removed]",
      "text/plain": [
       "<Figure size 576x216 with 1 Axes>"
      ]
     },
     "metadata": {
      "needs_background": "light"
     },
     "output_type": "display_data"
    }
   ],
   "source": [
    "X_new = np.linspace(0, 3, 1000).reshape(-1, 1)\n",
    "y_proba = log_reg.predict_proba(X_new)\n",
    "\n",
    "decision_boundary = X_new[y_proba[:, 1] >= 0.5][0] #확률이 50%가 넘기 시작한 제일 처음 샘플\n",
    "plt.figure(figsize=(8, 3))\n",
    "plt.plot(X[y==0], y[y==0], \"bs\")\n",
    "plt.plot(X[y==1], y[y==1], \"g^\")\n",
    "plt.plot([decision_boundary, decision_boundary], [-1, 2], \"k:\", linewidth=2)\n",
    "plt.plot(X_new, y_proba[:, 1], \"g-\", linewidth=2, label=\"Iris-Virginica\")\n",
    "plt.plot(X_new, y_proba[:, 0], \"b--\", linewidth=2, label=\"Not Iris-Virginica\")\n",
    "plt.legend(loc=\"center left\", fontsize=14)\n",
    "plt.axis([0, 3, -0.02, 1.02])\n",
    "plt.show()"
   ]
  },
  {
   "cell_type": "code",
   "execution_count": 17,
   "metadata": {
    "collapsed": true
   },
   "outputs": [
    {
     "data": {
      "text/plain": [
       "array([[9.99250016e-01, 7.49984089e-04],\n",
       "       [9.99240201e-01, 7.59799387e-04],\n",
       "       [9.99230257e-01, 7.69743043e-04],\n",
       "       [9.99220183e-01, 7.79816732e-04],\n",
       "       [9.99209978e-01, 7.90022153e-04],\n",
       "       [9.99199639e-01, 8.00361024e-04],\n",
       "       [9.99189165e-01, 8.10835088e-04],\n",
       "       [9.99178554e-01, 8.21446109e-04],\n",
       "       [9.99167804e-01, 8.32195877e-04],\n",
       "       [9.99156914e-01, 8.43086202e-04],\n",
       "       [9.99145881e-01, 8.54118919e-04],\n",
       "       [9.99134704e-01, 8.65295886e-04],\n",
       "       [9.99123381e-01, 8.76618985e-04],\n",
       "       [9.99111910e-01, 8.88090125e-04],\n",
       "       [9.99100289e-01, 8.99711238e-04],\n",
       "       [9.99088516e-01, 9.11484280e-04],\n",
       "       [9.99076589e-01, 9.23411234e-04],\n",
       "       [9.99064506e-01, 9.35494108e-04],\n",
       "       [9.99052265e-01, 9.47734937e-04],\n",
       "       [9.99039864e-01, 9.60135782e-04],\n",
       "       [9.99027301e-01, 9.72698731e-04],\n",
       "       [9.99014574e-01, 9.85425898e-04],\n",
       "       [9.99001681e-01, 9.98319426e-04],\n",
       "       [9.98988619e-01, 1.01138149e-03],\n",
       "       [9.98975386e-01, 1.02461427e-03],\n",
       "       [9.98961980e-01, 1.03802002e-03],\n",
       "       [9.98948399e-01, 1.05160097e-03],\n",
       "       [9.98934641e-01, 1.06535943e-03],\n",
       "       [9.98920702e-01, 1.07929769e-03],\n",
       "       [9.98906582e-01, 1.09341812e-03],\n",
       "       [9.98892277e-01, 1.10772307e-03],\n",
       "       [9.98877785e-01, 1.12221497e-03],\n",
       "       [9.98863104e-01, 1.13689623e-03],\n",
       "       [9.98848231e-01, 1.15176935e-03],\n",
       "       [9.98833163e-01, 1.16683681e-03],\n",
       "       [9.98817899e-01, 1.18210115e-03],\n",
       "       [9.98802435e-01, 1.19756493e-03],\n",
       "       [9.98786769e-01, 1.21323076e-03],\n",
       "       [9.98770899e-01, 1.22910127e-03],\n",
       "       [9.98754821e-01, 1.24517913e-03],\n",
       "       [9.98738533e-01, 1.26146703e-03],\n",
       "       [9.98722032e-01, 1.27796772e-03],\n",
       "       [9.98705316e-01, 1.29468397e-03],\n",
       "       [9.98688381e-01, 1.31161859e-03],\n",
       "       [9.98671226e-01, 1.32877442e-03],\n",
       "       [9.98653846e-01, 1.34615434e-03],\n",
       "       [9.98636239e-01, 1.36376127e-03],\n",
       "       [9.98618402e-01, 1.38159818e-03],\n",
       "       [9.98600332e-01, 1.39966805e-03],\n",
       "       [9.98582026e-01, 1.41797392e-03],\n",
       "       [9.98563481e-01, 1.43651886e-03],\n",
       "       [9.98544694e-01, 1.45530599e-03],\n",
       "       [9.98525662e-01, 1.47433846e-03],\n",
       "       [9.98506381e-01, 1.49361946e-03],\n",
       "       [9.98486848e-01, 1.51315223e-03],\n",
       "       [9.98467060e-01, 1.53294005e-03],\n",
       "       [9.98447014e-01, 1.55298624e-03],\n",
       "       [9.98426706e-01, 1.57329416e-03],\n",
       "       [9.98406133e-01, 1.59386721e-03],\n",
       "       [9.98385291e-01, 1.61470885e-03],\n",
       "       [9.98364177e-01, 1.63582257e-03],\n",
       "       [9.98342788e-01, 1.65721191e-03],\n",
       "       [9.98321120e-01, 1.67888047e-03],\n",
       "       [9.98299168e-01, 1.70083186e-03],\n",
       "       [9.98276930e-01, 1.72306977e-03],\n",
       "       [9.98254402e-01, 1.74559793e-03],\n",
       "       [9.98231580e-01, 1.76842010e-03],\n",
       "       [9.98208460e-01, 1.79154013e-03],\n",
       "       [9.98185038e-01, 1.81496187e-03],\n",
       "       [9.98161311e-01, 1.83868925e-03],\n",
       "       [9.98137274e-01, 1.86272625e-03],\n",
       "       [9.98112923e-01, 1.88707688e-03],\n",
       "       [9.98088255e-01, 1.91174523e-03],\n",
       "       [9.98063265e-01, 1.93673543e-03],\n",
       "       [9.98037948e-01, 1.96205165e-03],\n",
       "       [9.98012302e-01, 1.98769814e-03],\n",
       "       [9.97986321e-01, 2.01367918e-03],\n",
       "       [9.97960001e-01, 2.03999913e-03],\n",
       "       [9.97933338e-01, 2.06666238e-03],\n",
       "       [9.97906327e-01, 2.09367339e-03],\n",
       "       [9.97878963e-01, 2.12103669e-03],\n",
       "       [9.97851243e-01, 2.14875684e-03],\n",
       "       [9.97823162e-01, 2.17683847e-03],\n",
       "       [9.97794714e-01, 2.20528629e-03],\n",
       "       [9.97765895e-01, 2.23410505e-03],\n",
       "       [9.97736700e-01, 2.26329955e-03],\n",
       "       [9.97707125e-01, 2.29287468e-03],\n",
       "       [9.97677165e-01, 2.32283538e-03],\n",
       "       [9.97646813e-01, 2.35318665e-03],\n",
       "       [9.97616066e-01, 2.38393355e-03],\n",
       "       [9.97584919e-01, 2.41508123e-03],\n",
       "       [9.97553365e-01, 2.44663486e-03],\n",
       "       [9.97521400e-01, 2.47859974e-03],\n",
       "       [9.97489019e-01, 2.51098117e-03],\n",
       "       [9.97456215e-01, 2.54378457e-03],\n",
       "       [9.97422985e-01, 2.57701541e-03],\n",
       "       [9.97389321e-01, 2.61067922e-03],\n",
       "       [9.97355218e-01, 2.64478162e-03],\n",
       "       [9.97320672e-01, 2.67932829e-03],\n",
       "       [9.97285675e-01, 2.71432499e-03]])"
      ]
     },
     "execution_count": 17,
     "metadata": {},
     "output_type": "execute_result"
    }
   ],
   "source": [
    "y_proba[:100]"
   ]
  },
  {
   "cell_type": "code",
   "execution_count": 18,
   "metadata": {},
   "outputs": [
    {
     "data": {
      "text/plain": [
       "array([1.66066066])"
      ]
     },
     "execution_count": 18,
     "metadata": {},
     "output_type": "execute_result"
    }
   ],
   "source": [
    "decision_boundary"
   ]
  },
  {
   "cell_type": "code",
   "execution_count": 19,
   "metadata": {},
   "outputs": [
    {
     "data": {
      "text/plain": [
       "array([1, 0])"
      ]
     },
     "execution_count": 19,
     "metadata": {},
     "output_type": "execute_result"
    }
   ],
   "source": [
    "log_reg.predict([[1.7], [1.5]])"
   ]
  },
  {
   "cell_type": "markdown",
   "metadata": {},
   "source": [
    "# 소프트맥스 회귀"
   ]
  },
  {
   "cell_type": "code",
   "execution_count": 20,
   "metadata": {},
   "outputs": [
    {
     "data": {
      "text/plain": [
       "LogisticRegression(C=10, class_weight=None, dual=False, fit_intercept=True,\n",
       "                   intercept_scaling=1, l1_ratio=None, max_iter=100,\n",
       "                   multi_class='multinomial', n_jobs=None, penalty='l2',\n",
       "                   random_state=42, solver='lbfgs', tol=0.0001, verbose=0,\n",
       "                   warm_start=False)"
      ]
     },
     "execution_count": 20,
     "metadata": {},
     "output_type": "execute_result"
    }
   ],
   "source": [
    "X = iris[\"data\"][:, (2, 3)]  # 꽃잎 길이, 꽃잎 넓이\n",
    "y = iris[\"target\"]\n",
    "\n",
    "softmax_reg = LogisticRegression(multi_class=\"multinomial\",solver=\"lbfgs\", C=10, random_state=42)\n",
    "softmax_reg.fit(X, y)"
   ]
  },
  {
   "cell_type": "code",
   "execution_count": 21,
   "metadata": {},
   "outputs": [
    {
     "data": {
      "text/plain": [
       "array([2])"
      ]
     },
     "execution_count": 21,
     "metadata": {},
     "output_type": "execute_result"
    }
   ],
   "source": [
    "softmax_reg.predict([[5, 2]])"
   ]
  },
  {
   "cell_type": "code",
   "execution_count": 22,
   "metadata": {},
   "outputs": [
    {
     "data": {
      "text/plain": [
       "array([[6.38014896e-07, 5.74929995e-02, 9.42506362e-01]])"
      ]
     },
     "execution_count": 22,
     "metadata": {},
     "output_type": "execute_result"
    }
   ],
   "source": [
    "softmax_reg.predict_proba([[5, 2]])"
   ]
  },
  {
   "cell_type": "code",
   "execution_count": null,
   "metadata": {},
   "outputs": [],
   "source": []
  }
 ],
 "metadata": {
  "kernelspec": {
   "display_name": "Python 3",
   "language": "python",
   "name": "python3"
  },
  "language_info": {
   "codemirror_mode": {
    "name": "ipython",
    "version": 3
   },
   "file_extension": ".py",
   "mimetype": "text/x-python",
   "name": "python",
   "nbconvert_exporter": "python",
   "pygments_lexer": "ipython3",
   "version": "3.7.6"
  },
  "nav_menu": {},
  "toc": {
   "base_numbering": 1,
   "nav_menu": {},
   "number_sections": true,
   "sideBar": true,
   "skip_h1_title": false,
   "title_cell": "Table of Contents",
   "title_sidebar": "Contents",
   "toc_cell": false,
   "toc_position": {},
   "toc_section_display": "block",
   "toc_window_display": false
  },
  "varInspector": {
   "cols": {
    "lenName": 16,
    "lenType": 16,
    "lenVar": 40
   },
   "kernels_config": {
    "python": {
     "delete_cmd_postfix": "",
     "delete_cmd_prefix": "del ",
     "library": "var_list.py",
     "varRefreshCmd": "print(var_dic_list())"
    },
    "r": {
     "delete_cmd_postfix": ") ",
     "delete_cmd_prefix": "rm(",
     "library": "var_list.r",
     "varRefreshCmd": "cat(var_dic_list()) "
    }
   },
   "types_to_exclude": [
    "module",
    "function",
    "builtin_function_or_method",
    "instance",
    "_Feature"
   ],
   "window_display": false
  }
 },
 "nbformat": 4,
 "nbformat_minor": 1
}
