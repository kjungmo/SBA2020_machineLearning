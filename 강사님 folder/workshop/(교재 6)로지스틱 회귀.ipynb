{
 "cells": [
  {
   "cell_type": "markdown",
   "metadata": {},
   "source": [
    "# 로지스틱 회귀"
   ]
  },
  {
   "cell_type": "code",
   "execution_count": 1,
   "metadata": {},
   "outputs": [],
   "source": [
    "import numpy as np\n",
    "import matplotlib.pyplot as plt"
   ]
  },
  {
   "cell_type": "markdown",
   "metadata": {},
   "source": [
    "* 이중 분류기"
   ]
  },
  {
   "cell_type": "code",
   "execution_count": 2,
   "metadata": {},
   "outputs": [
    {
     "data": {
      "text/plain": [
       "['data', 'target', 'target_names', 'DESCR', 'feature_names', 'filename']"
      ]
     },
     "execution_count": 2,
     "metadata": {},
     "output_type": "execute_result"
    }
   ],
   "source": [
    "from sklearn import datasets\n",
    "iris = datasets.load_iris()\n",
    "list(iris.keys())"
   ]
  },
  {
   "cell_type": "code",
   "execution_count": 3,
   "metadata": {},
   "outputs": [],
   "source": [
    "X = iris[\"data\"][:, 3:]  # 꽃잎 넓이\n",
    "y = (iris[\"target\"] == 2).astype(np.int)  # Iris-Virginica이면 1 아니면 0"
   ]
  },
  {
   "cell_type": "code",
   "execution_count": 4,
   "metadata": {},
   "outputs": [
    {
     "data": {
      "text/plain": [
       "LogisticRegression(C=1.0, class_weight=None, dual=False, fit_intercept=True,\n",
       "                   intercept_scaling=1, l1_ratio=None, max_iter=100,\n",
       "                   multi_class='auto', n_jobs=None, penalty='l2',\n",
       "                   random_state=42, solver='liblinear', tol=0.0001, verbose=0,\n",
       "                   warm_start=False)"
      ]
     },
     "execution_count": 4,
     "metadata": {},
     "output_type": "execute_result"
    }
   ],
   "source": [
    "from sklearn.linear_model import LogisticRegression\n",
    "log_reg = LogisticRegression(solver='liblinear', random_state=42)\n",
    "log_reg.fit(X, y)"
   ]
  },
  {
   "cell_type": "code",
   "execution_count": 8,
   "metadata": {},
   "outputs": [
    {
     "data": {
      "text/plain": [
       "array([1.61561562])"
      ]
     },
     "execution_count": 8,
     "metadata": {},
     "output_type": "execute_result"
    }
   ],
   "source": [
    "decision_boundary"
   ]
  },
  {
   "cell_type": "code",
   "execution_count": 26,
   "metadata": {},
   "outputs": [
    {
     "data": {
      "image/png": "[encoded data removed]",
      "text/plain": [
       "<Figure size 576x216 with 1 Axes>"
      ]
     },
     "metadata": {
      "needs_background": "light"
     },
     "output_type": "display_data"
    }
   ],
   "source": [
    "X_new = np.linspace(0, 3, 1000).reshape(-1, 1)\n",
    "y_proba = log_reg.predict_proba(X_new)\n",
    "\n",
    "decision_boundary = X_new[y_proba[:, 1] >= 0.5][0] #확률이 50%가 넘기 시작한 제일 처음 샘플\n",
    "plt.figure(figsize=(8, 3))\n",
    "plt.plot(X[y==0], y[y==0], \"bs\")\n",
    "plt.plot(X[y==1], y[y==1], \"g^\")\n",
    "plt.plot([decision_boundary, decision_boundary], [-1, 2], \"k:\", linewidth=2)\n",
    "plt.plot(X_new, y_proba[:, 1], \"g-\", linewidth=2, label=\"Iris-Virginica\")\n",
    "plt.plot(X_new, y_proba[:, 0], \"b--\", linewidth=2, label=\"Not Iris-Virginica\")\n",
    "plt.legend(loc=\"center left\", fontsize=14)\n",
    "plt.axis([0, 3, -0.02, 1.02])\n",
    "plt.show()"
   ]
  },
  {
   "cell_type": "code",
   "execution_count": 11,
   "metadata": {
    "collapsed": true
   },
   "outputs": [
    {
     "data": {
      "text/plain": [
       "array([[0.98554411, 0.01445589],\n",
       "       [0.98543168, 0.01456832],\n",
       "       [0.98531838, 0.01468162],\n",
       "       [0.98520422, 0.01479578],\n",
       "       [0.98508919, 0.01491081],\n",
       "       [0.98497327, 0.01502673],\n",
       "       [0.98485647, 0.01514353],\n",
       "       [0.98473877, 0.01526123],\n",
       "       [0.98462018, 0.01537982],\n",
       "       [0.98450067, 0.01549933],\n",
       "       [0.98438026, 0.01561974],\n",
       "       [0.98425892, 0.01574108],\n",
       "       [0.98413665, 0.01586335],\n",
       "       [0.98401345, 0.01598655],\n",
       "       [0.98388931, 0.01611069],\n",
       "       [0.98376422, 0.01623578],\n",
       "       [0.98363817, 0.01636183],\n",
       "       [0.98351117, 0.01648883],\n",
       "       [0.98338319, 0.01661681],\n",
       "       [0.98325424, 0.01674576],\n",
       "       [0.9831243 , 0.0168757 ],\n",
       "       [0.98299338, 0.01700662],\n",
       "       [0.98286145, 0.01713855],\n",
       "       [0.98272852, 0.01727148],\n",
       "       [0.98259458, 0.01740542],\n",
       "       [0.98245962, 0.01754038],\n",
       "       [0.98232363, 0.01767637],\n",
       "       [0.9821866 , 0.0178134 ],\n",
       "       [0.98204853, 0.01795147],\n",
       "       [0.98190941, 0.01809059],\n",
       "       [0.98176923, 0.01823077],\n",
       "       [0.98162799, 0.01837201],\n",
       "       [0.98148567, 0.01851433],\n",
       "       [0.98134228, 0.01865772],\n",
       "       [0.98119779, 0.01880221],\n",
       "       [0.9810522 , 0.0189478 ],\n",
       "       [0.98090551, 0.01909449],\n",
       "       [0.98075771, 0.01924229],\n",
       "       [0.98060878, 0.01939122],\n",
       "       [0.98045873, 0.01954127],\n",
       "       [0.98030754, 0.01969246],\n",
       "       [0.9801552 , 0.0198448 ],\n",
       "       [0.9800017 , 0.0199983 ],\n",
       "       [0.97984705, 0.02015295],\n",
       "       [0.97969122, 0.02030878],\n",
       "       [0.97953421, 0.02046579],\n",
       "       [0.97937602, 0.02062398],\n",
       "       [0.97921663, 0.02078337],\n",
       "       [0.97905603, 0.02094397],\n",
       "       [0.97889422, 0.02110578],\n",
       "       [0.97873118, 0.02126882],\n",
       "       [0.97856691, 0.02143309],\n",
       "       [0.97840141, 0.02159859],\n",
       "       [0.97823465, 0.02176535],\n",
       "       [0.97806663, 0.02193337],\n",
       "       [0.97789735, 0.02210265],\n",
       "       [0.97772679, 0.02227321],\n",
       "       [0.97755494, 0.02244506],\n",
       "       [0.9773818 , 0.0226182 ],\n",
       "       [0.97720736, 0.02279264],\n",
       "       [0.9770316 , 0.0229684 ],\n",
       "       [0.97685451, 0.02314549],\n",
       "       [0.9766761 , 0.0233239 ],\n",
       "       [0.97649634, 0.02350366],\n",
       "       [0.97631523, 0.02368477],\n",
       "       [0.97613276, 0.02386724],\n",
       "       [0.97594892, 0.02405108],\n",
       "       [0.97576369, 0.02423631],\n",
       "       [0.97557708, 0.02442292],\n",
       "       [0.97538907, 0.02461093],\n",
       "       [0.97519964, 0.02480036],\n",
       "       [0.9750088 , 0.0249912 ],\n",
       "       [0.97481652, 0.02518348],\n",
       "       [0.9746228 , 0.0253772 ],\n",
       "       [0.97442763, 0.02557237],\n",
       "       [0.974231  , 0.025769  ],\n",
       "       [0.9740329 , 0.0259671 ],\n",
       "       [0.97383332, 0.02616668],\n",
       "       [0.97363224, 0.02636776],\n",
       "       [0.97342967, 0.02657033],\n",
       "       [0.97322557, 0.02677443],\n",
       "       [0.97301996, 0.02698004],\n",
       "       [0.97281281, 0.02718719],\n",
       "       [0.97260411, 0.02739589],\n",
       "       [0.97239386, 0.02760614],\n",
       "       [0.97218203, 0.02781797],\n",
       "       [0.97196863, 0.02803137],\n",
       "       [0.97175365, 0.02824635],\n",
       "       [0.97153706, 0.02846294],\n",
       "       [0.97131885, 0.02868115],\n",
       "       [0.97109903, 0.02890097],\n",
       "       [0.97087757, 0.02912243],\n",
       "       [0.97065447, 0.02934553],\n",
       "       [0.97042971, 0.02957029],\n",
       "       [0.97020328, 0.02979672],\n",
       "       [0.96997517, 0.03002483],\n",
       "       [0.96974536, 0.03025464],\n",
       "       [0.96951386, 0.03048614],\n",
       "       [0.96928064, 0.03071936],\n",
       "       [0.96904569, 0.03095431]])"
      ]
     },
     "execution_count": 11,
     "metadata": {},
     "output_type": "execute_result"
    }
   ],
   "source": [
    "y_proba[:100]"
   ]
  },
  {
   "cell_type": "code",
   "execution_count": 6,
   "metadata": {},
   "outputs": [
    {
     "data": {
      "text/plain": [
       "array([1.61561562])"
      ]
     },
     "execution_count": 6,
     "metadata": {},
     "output_type": "execute_result"
    }
   ],
   "source": [
    "decision_boundary"
   ]
  },
  {
   "cell_type": "code",
   "execution_count": 7,
   "metadata": {},
   "outputs": [
    {
     "data": {
      "text/plain": [
       "array([1, 0])"
      ]
     },
     "execution_count": 7,
     "metadata": {},
     "output_type": "execute_result"
    }
   ],
   "source": [
    "log_reg.predict([[1.7], [1.5]])"
   ]
  },
  {
   "cell_type": "markdown",
   "metadata": {},
   "source": [
    "* 소프트맥스 회귀"
   ]
  },
  {
   "cell_type": "code",
   "execution_count": 16,
   "metadata": {},
   "outputs": [
    {
     "data": {
      "text/plain": [
       "LogisticRegression(C=10, class_weight=None, dual=False, fit_intercept=True,\n",
       "                   intercept_scaling=1, l1_ratio=None, max_iter=100,\n",
       "                   multi_class='multinomial', n_jobs=None, penalty='l2',\n",
       "                   random_state=42, solver='lbfgs', tol=0.0001, verbose=0,\n",
       "                   warm_start=False)"
      ]
     },
     "execution_count": 16,
     "metadata": {},
     "output_type": "execute_result"
    }
   ],
   "source": [
    "X = iris[\"data\"][:, (2, 3)]  # 꽃잎 길이, 꽃잎 넓이\n",
    "y = iris[\"target\"]\n",
    "\n",
    "softmax_reg = LogisticRegression(multi_class=\"multinomial\",solver=\"lbfgs\", C=10, random_state=42)\n",
    "softmax_reg.fit(X, y)"
   ]
  },
  {
   "cell_type": "code",
   "execution_count": 17,
   "metadata": {},
   "outputs": [
    {
     "data": {
      "text/plain": [
       "array([2])"
      ]
     },
     "execution_count": 17,
     "metadata": {},
     "output_type": "execute_result"
    }
   ],
   "source": [
    "softmax_reg.predict([[5, 2]])"
   ]
  },
  {
   "cell_type": "code",
   "execution_count": 18,
   "metadata": {},
   "outputs": [
    {
     "data": {
      "text/plain": [
       "array([[6.38014896e-07, 5.74929995e-02, 9.42506362e-01]])"
      ]
     },
     "execution_count": 18,
     "metadata": {},
     "output_type": "execute_result"
    }
   ],
   "source": [
    "softmax_reg.predict_proba([[5, 2]])"
   ]
  },
  {
   "cell_type": "code",
   "execution_count": null,
   "metadata": {},
   "outputs": [],
   "source": []
  }
 ],
 "metadata": {
  "kernelspec": {
   "display_name": "Python 3",
   "language": "python",
   "name": "python3"
  },
  "language_info": {
   "codemirror_mode": {
    "name": "ipython",
    "version": 3
   },
   "file_extension": ".py",
   "mimetype": "text/x-python",
   "name": "python",
   "nbconvert_exporter": "python",
   "pygments_lexer": "ipython3",
   "version": "3.7.6"
  },
  "nav_menu": {},
  "toc": {
   "base_numbering": 1,
   "nav_menu": {},
   "number_sections": true,
   "sideBar": true,
   "skip_h1_title": false,
   "title_cell": "Table of Contents",
   "title_sidebar": "Contents",
   "toc_cell": false,
   "toc_position": {},
   "toc_section_display": "block",
   "toc_window_display": false
  },
  "varInspector": {
   "cols": {
    "lenName": 16,
    "lenType": 16,
    "lenVar": 40
   },
   "kernels_config": {
    "python": {
     "delete_cmd_postfix": "",
     "delete_cmd_prefix": "del ",
     "library": "var_list.py",
     "varRefreshCmd": "print(var_dic_list())"
    },
    "r": {
     "delete_cmd_postfix": ") ",
     "delete_cmd_prefix": "rm(",
     "library": "var_list.r",
     "varRefreshCmd": "cat(var_dic_list()) "
    }
   },
   "types_to_exclude": [
    "module",
    "function",
    "builtin_function_or_method",
    "instance",
    "_Feature"
   ],
   "window_display": false
  }
 },
 "nbformat": 4,
 "nbformat_minor": 1
}
