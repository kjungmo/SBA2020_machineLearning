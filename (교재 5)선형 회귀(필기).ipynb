{
 "cells": [
  {
   "cell_type": "markdown",
   "metadata": {},
   "source": [
    "# 정규 방정식을 사용한 선형 회귀"
   ]
  },
  {
   "cell_type": "code",
   "execution_count": 1,
   "metadata": {
    "ExecuteTime": {
     "end_time": "2020-08-24T00:49:31.917225Z",
     "start_time": "2020-08-24T00:49:31.908231Z"
    }
   },
   "outputs": [],
   "source": [
    "import numpy as np\n",
    "\n",
    "np.random.seed(42)\n",
    "\n",
    "# 데이터를 임의로 만든다\n",
    "# 랜덤함수를 사용하여 시드를 설정한다\n",
    "# 유사난수"
   ]
  },
  {
   "cell_type": "code",
   "execution_count": 7,
   "metadata": {
    "ExecuteTime": {
     "end_time": "2020-08-24T01:11:10.106562Z",
     "start_time": "2020-08-24T01:11:10.096570Z"
    },
    "scrolled": true
   },
   "outputs": [
    {
     "data": {
      "text/plain": [
       "array([[0.7948113 ],\n",
       "       [0.50263709],\n",
       "       [0.57690388],\n",
       "       [0.49251769],\n",
       "       [0.19524299],\n",
       "       [0.72245212],\n",
       "       [0.28077236],\n",
       "       [0.02431597],\n",
       "       [0.6454723 ],\n",
       "       [0.17711068],\n",
       "       [0.94045858],\n",
       "       [0.95392858],\n",
       "       [0.91486439],\n",
       "       [0.3701587 ],\n",
       "       [0.01545662],\n",
       "       [0.92831856],\n",
       "       [0.42818415],\n",
       "       [0.96665482],\n",
       "       [0.96361998],\n",
       "       [0.85300946],\n",
       "       [0.29444889],\n",
       "       [0.38509773],\n",
       "       [0.85113667],\n",
       "       [0.31692201],\n",
       "       [0.16949275],\n",
       "       [0.55680126],\n",
       "       [0.93615477],\n",
       "       [0.6960298 ],\n",
       "       [0.57006117],\n",
       "       [0.09717649],\n",
       "       [0.61500723],\n",
       "       [0.99005385],\n",
       "       [0.14008402],\n",
       "       [0.51832965],\n",
       "       [0.87737307],\n",
       "       [0.74076862],\n",
       "       [0.69701574],\n",
       "       [0.70248408],\n",
       "       [0.35949115],\n",
       "       [0.29359184],\n",
       "       [0.80936116],\n",
       "       [0.81011339],\n",
       "       [0.86707232],\n",
       "       [0.91324055],\n",
       "       [0.5113424 ],\n",
       "       [0.50151629],\n",
       "       [0.79829518],\n",
       "       [0.64996393],\n",
       "       [0.70196688],\n",
       "       [0.79579267],\n",
       "       [0.89000534],\n",
       "       [0.33799516],\n",
       "       [0.37558295],\n",
       "       [0.09398194],\n",
       "       [0.57828014],\n",
       "       [0.03594227],\n",
       "       [0.46559802],\n",
       "       [0.54264463],\n",
       "       [0.28654125],\n",
       "       [0.59083326],\n",
       "       [0.03050025],\n",
       "       [0.03734819],\n",
       "       [0.82260056],\n",
       "       [0.36019064],\n",
       "       [0.12706051],\n",
       "       [0.52224326],\n",
       "       [0.76999355],\n",
       "       [0.21582103],\n",
       "       [0.62289048],\n",
       "       [0.08534746],\n",
       "       [0.05168172],\n",
       "       [0.53135463],\n",
       "       [0.54063512],\n",
       "       [0.6374299 ],\n",
       "       [0.72609133],\n",
       "       [0.97585208],\n",
       "       [0.51630035],\n",
       "       [0.32295647],\n",
       "       [0.79518619],\n",
       "       [0.27083225],\n",
       "       [0.43897142],\n",
       "       [0.07845638],\n",
       "       [0.02535074],\n",
       "       [0.96264841],\n",
       "       [0.83598012],\n",
       "       [0.69597421],\n",
       "       [0.40895294],\n",
       "       [0.17329432],\n",
       "       [0.15643704],\n",
       "       [0.2502429 ],\n",
       "       [0.54922666],\n",
       "       [0.71459592],\n",
       "       [0.66019738],\n",
       "       [0.2799339 ],\n",
       "       [0.95486528],\n",
       "       [0.73789692],\n",
       "       [0.55435405],\n",
       "       [0.61172075],\n",
       "       [0.41960006],\n",
       "       [0.24773099]])"
      ]
     },
     "execution_count": 7,
     "metadata": {},
     "output_type": "execute_result"
    }
   ],
   "source": [
    "np.random.rand(100, 1)"
   ]
  },
  {
   "cell_type": "code",
   "execution_count": 8,
   "metadata": {
    "ExecuteTime": {
     "end_time": "2020-08-24T01:11:31.792304Z",
     "start_time": "2020-08-24T01:11:31.775314Z"
    },
    "scrolled": true
   },
   "outputs": [
    {
     "data": {
      "text/plain": [
       "array([[ 1.26691115],\n",
       "       [-0.70766947],\n",
       "       [ 0.44381943],\n",
       "       [ 0.77463405],\n",
       "       [-0.92693047],\n",
       "       [-0.05952536],\n",
       "       [-3.24126734],\n",
       "       [-1.02438764],\n",
       "       [-0.25256815],\n",
       "       [-1.24778318],\n",
       "       [ 1.6324113 ],\n",
       "       [-1.43014138],\n",
       "       [-0.44004449],\n",
       "       [ 0.13074058],\n",
       "       [ 1.44127329],\n",
       "       [-1.43586215],\n",
       "       [ 1.16316375],\n",
       "       [ 0.01023306],\n",
       "       [-0.98150865],\n",
       "       [ 0.46210347],\n",
       "       [ 0.1990597 ],\n",
       "       [-0.60021688],\n",
       "       [ 0.06980208],\n",
       "       [-0.3853136 ],\n",
       "       [ 0.11351735],\n",
       "       [ 0.66213067],\n",
       "       [ 1.58601682],\n",
       "       [-1.2378155 ],\n",
       "       [ 2.13303337],\n",
       "       [-1.9520878 ],\n",
       "       [-0.1517851 ],\n",
       "       [ 0.58831721],\n",
       "       [ 0.28099187],\n",
       "       [-0.62269952],\n",
       "       [-0.20812225],\n",
       "       [-0.49300093],\n",
       "       [-0.58936476],\n",
       "       [ 0.8496021 ],\n",
       "       [ 0.35701549],\n",
       "       [-0.6929096 ],\n",
       "       [ 0.89959988],\n",
       "       [ 0.30729952],\n",
       "       [ 0.81286212],\n",
       "       [ 0.62962884],\n",
       "       [-0.82899501],\n",
       "       [-0.56018104],\n",
       "       [ 0.74729361],\n",
       "       [ 0.61037027],\n",
       "       [-0.02090159],\n",
       "       [ 0.11732738],\n",
       "       [ 1.2776649 ],\n",
       "       [-0.59157139],\n",
       "       [ 0.54709738],\n",
       "       [-0.20219265],\n",
       "       [-0.2176812 ],\n",
       "       [ 1.09877685],\n",
       "       [ 0.82541635],\n",
       "       [ 0.81350964],\n",
       "       [ 1.30547881],\n",
       "       [ 0.02100384],\n",
       "       [ 0.68195297],\n",
       "       [-0.31026676],\n",
       "       [ 0.32416635],\n",
       "       [-0.13014305],\n",
       "       [ 0.09699596],\n",
       "       [ 0.59515703],\n",
       "       [-0.81822068],\n",
       "       [ 2.09238728],\n",
       "       [-1.00601738],\n",
       "       [-1.21418861],\n",
       "       [ 1.15811087],\n",
       "       [ 0.79166269],\n",
       "       [ 0.62411982],\n",
       "       [ 0.62834551],\n",
       "       [-0.01224677],\n",
       "       [-0.89725437],\n",
       "       [ 0.07580456],\n",
       "       [-0.67716171],\n",
       "       [ 0.97511973],\n",
       "       [-0.14705738],\n",
       "       [-0.8254972 ],\n",
       "       [-0.32138584],\n",
       "       [ 0.41293145],\n",
       "       [-0.56372455],\n",
       "       [-0.8222204 ],\n",
       "       [ 0.24368721],\n",
       "       [ 0.24496657],\n",
       "       [-0.50694318],\n",
       "       [-0.47103831],\n",
       "       [ 0.23204994],\n",
       "       [-1.44808434],\n",
       "       [-1.40746377],\n",
       "       [-0.71844422],\n",
       "       [-0.21344715],\n",
       "       [ 0.31090757],\n",
       "       [ 1.47535622],\n",
       "       [ 0.85765962],\n",
       "       [-0.15993853],\n",
       "       [-0.01901621],\n",
       "       [-1.00252936]])"
      ]
     },
     "execution_count": 8,
     "metadata": {},
     "output_type": "execute_result"
    }
   ],
   "source": [
    "np.random.randn(100, 1)"
   ]
  },
  {
   "cell_type": "code",
   "execution_count": 2,
   "metadata": {
    "ExecuteTime": {
     "end_time": "2020-08-24T00:49:33.576545Z",
     "start_time": "2020-08-24T00:49:33.558556Z"
    }
   },
   "outputs": [],
   "source": [
    "X = 2 * np.random.rand(100, 1)  # 특성 축\n",
    "# rand()라는 것은 표준정규분포를 따르는 dataset을 가져다준다.\n",
    "\n",
    "y = 4 + 3 * X + np.random.randn(100, 1)  # y 는 타깃 축\n",
    "\n",
    "#y= 4+3x+가우시안 노이즈"
   ]
  },
  {
   "cell_type": "code",
   "execution_count": 9,
   "metadata": {
    "ExecuteTime": {
     "end_time": "2020-08-24T01:12:13.233966Z",
     "start_time": "2020-08-24T01:12:13.063075Z"
    }
   },
   "outputs": [
    {
     "data": {
      "image/png": "[encoded data removed]",
      "text/plain": [
       "<Figure size 432x288 with 1 Axes>"
      ]
     },
     "metadata": {
      "needs_background": "light"
     },
     "output_type": "display_data"
    }
   ],
   "source": [
    "import matplotlib.pyplot as plt\n",
    "plt.plot(X, y, \"b.\")\n",
    "plt.axis([0, 2, 0, 15])\n",
    "plt.show()"
   ]
  },
  {
   "cell_type": "markdown",
   "metadata": {},
   "source": [
    "* 넘파이 선형 대수 모듈 이용"
   ]
  },
  {
   "cell_type": "code",
   "execution_count": 12,
   "metadata": {
    "ExecuteTime": {
     "end_time": "2020-08-24T01:16:07.450727Z",
     "start_time": "2020-08-24T01:16:07.436737Z"
    }
   },
   "outputs": [
    {
     "data": {
      "text/plain": [
       "(100, 1)"
      ]
     },
     "execution_count": 12,
     "metadata": {},
     "output_type": "execute_result"
    }
   ],
   "source": [
    "X.shape"
   ]
  },
  {
   "cell_type": "code",
   "execution_count": 14,
   "metadata": {
    "ExecuteTime": {
     "end_time": "2020-08-24T01:16:21.213975Z",
     "start_time": "2020-08-24T01:16:21.196985Z"
    }
   },
   "outputs": [
    {
     "data": {
      "text/plain": [
       "(100, 2)"
      ]
     },
     "execution_count": 14,
     "metadata": {},
     "output_type": "execute_result"
    }
   ],
   "source": [
    "X_b.shape"
   ]
  },
  {
   "cell_type": "code",
   "execution_count": 15,
   "metadata": {
    "ExecuteTime": {
     "end_time": "2020-08-24T01:16:27.888827Z",
     "start_time": "2020-08-24T01:16:27.869840Z"
    }
   },
   "outputs": [
    {
     "data": {
      "text/plain": [
       "array([[1.        , 0.74908024],\n",
       "       [1.        , 1.90142861],\n",
       "       [1.        , 1.46398788],\n",
       "       [1.        , 1.19731697],\n",
       "       [1.        , 0.31203728]])"
      ]
     },
     "execution_count": 15,
     "metadata": {},
     "output_type": "execute_result"
    }
   ],
   "source": [
    "X_b[:5]"
   ]
  },
  {
   "cell_type": "code",
   "execution_count": 17,
   "metadata": {
    "ExecuteTime": {
     "end_time": "2020-08-24T01:19:54.975368Z",
     "start_time": "2020-08-24T01:19:54.961375Z"
    }
   },
   "outputs": [],
   "source": [
    "X_b = np.c_[np.ones((100, 1)), X]  # 모든 샘플에 x0 = 1을 추가합니다.\n",
    "# np.c_ 는 열 병합이라는 뜻이다. 옆으로 나란히 붙게된다.\n",
    "\n",
    "# 선형 회귀 예측 중 정규 방정식을 구현한 것이다\n",
    "theta_best = np.linalg.inv(X_b.T.dot(X_b)).dot(X_b.T).dot(y)"
   ]
  },
  {
   "cell_type": "code",
   "execution_count": 20,
   "metadata": {
    "ExecuteTime": {
     "end_time": "2020-08-24T01:20:38.903883Z",
     "start_time": "2020-08-24T01:20:38.888894Z"
    }
   },
   "outputs": [
    {
     "data": {
      "text/plain": [
       "array([[4.21509616],\n",
       "       [2.77011339]])"
      ]
     },
     "execution_count": 20,
     "metadata": {},
     "output_type": "execute_result"
    }
   ],
   "source": [
    "# 최적의 세타값\n",
    "theta_best\n",
    "\n",
    "# 출력 값의 앞의 4.2는 절편, 2.7은 기울기"
   ]
  },
  {
   "cell_type": "code",
   "execution_count": 22,
   "metadata": {
    "ExecuteTime": {
     "end_time": "2020-08-24T01:26:50.909518Z",
     "start_time": "2020-08-24T01:26:50.900525Z"
    }
   },
   "outputs": [
    {
     "data": {
      "text/plain": [
       "array([[4.21509616],\n",
       "       [9.75532293]])"
      ]
     },
     "execution_count": 22,
     "metadata": {},
     "output_type": "execute_result"
    }
   ],
   "source": [
    "X_new = np.array([[0], [2]])\n",
    "X_new_b = np.c_[np.ones((2, 1)), X_new]  # 모든 샘플에 x0 = 1을 추가합니다.\n",
    "y_predict = X_new_b.dot(theta_best)\n",
    "y_predict"
   ]
  },
  {
   "cell_type": "code",
   "execution_count": 25,
   "metadata": {
    "ExecuteTime": {
     "end_time": "2020-08-24T01:28:57.343290Z",
     "start_time": "2020-08-24T01:28:57.163402Z"
    }
   },
   "outputs": [
    {
     "data": {
      "image/png": "[encoded data removed]",
      "text/plain": [
       "<Figure size 432x288 with 1 Axes>"
      ]
     },
     "metadata": {
      "needs_background": "light"
     },
     "output_type": "display_data"
    }
   ],
   "source": [
    "plt.plot(X_new, y_predict, \"r-\")\n",
    "# 0에서 2까지(x축)\n",
    "plt.plot(X, y, \"b.\")\n",
    "plt.axis([0, 2, 0, 15])\n",
    "plt.show()"
   ]
  },
  {
   "cell_type": "markdown",
   "metadata": {},
   "source": [
    "* 사이킷런 이용"
   ]
  },
  {
   "cell_type": "code",
   "execution_count": 28,
   "metadata": {
    "ExecuteTime": {
     "end_time": "2020-08-24T01:30:23.617391Z",
     "start_time": "2020-08-24T01:30:23.608397Z"
    }
   },
   "outputs": [
    {
     "data": {
      "text/plain": [
       "(array([4.21509616]), array([[2.77011339]]))"
      ]
     },
     "execution_count": 28,
     "metadata": {},
     "output_type": "execute_result"
    }
   ],
   "source": [
    "from sklearn.linear_model import LinearRegression\n",
    "lin_reg = LinearRegression()\n",
    "lin_reg.fit(X, y)\n",
    "lin_reg.intercept_, lin_reg.coef_\n",
    "#intercept_ 에는 절편, coef_ 에는 기울기값이 저장되어 있다."
   ]
  },
  {
   "cell_type": "code",
   "execution_count": 29,
   "metadata": {
    "ExecuteTime": {
     "end_time": "2020-08-24T01:30:30.441967Z",
     "start_time": "2020-08-24T01:30:30.433972Z"
    }
   },
   "outputs": [
    {
     "data": {
      "text/plain": [
       "80.65845639670532"
      ]
     },
     "execution_count": 29,
     "metadata": {},
     "output_type": "execute_result"
    }
   ],
   "source": [
    "np.sum(np.square(lin_reg.predict(X) - y))  #오차 제곱의 합\n",
    "\n",
    "# 성능의 측정 지표로 사용된다"
   ]
  },
  {
   "cell_type": "code",
   "execution_count": 30,
   "metadata": {
    "ExecuteTime": {
     "end_time": "2020-08-24T01:30:30.964931Z",
     "start_time": "2020-08-24T01:30:30.945947Z"
    }
   },
   "outputs": [
    {
     "data": {
      "text/plain": [
       "array([[4.21509616],\n",
       "       [9.75532293]])"
      ]
     },
     "execution_count": 30,
     "metadata": {},
     "output_type": "execute_result"
    }
   ],
   "source": [
    "lin_reg.predict(X_new)"
   ]
  },
  {
   "cell_type": "code",
   "execution_count": 31,
   "metadata": {
    "ExecuteTime": {
     "end_time": "2020-08-24T01:30:31.530924Z",
     "start_time": "2020-08-24T01:30:31.513935Z"
    }
   },
   "outputs": [
    {
     "data": {
      "text/plain": [
       "0.7692735413614223"
      ]
     },
     "execution_count": 31,
     "metadata": {},
     "output_type": "execute_result"
    }
   ],
   "source": [
    "lin_reg.score(X, y)  #R2\n",
    "# 평가 지표가 R제곱이다. mse로 만든 수식이다. .0.77정도의 성능이 나왔다"
   ]
  },
  {
   "cell_type": "code",
   "execution_count": 32,
   "metadata": {
    "ExecuteTime": {
     "end_time": "2020-08-24T01:30:33.942893Z",
     "start_time": "2020-08-24T01:30:33.920907Z"
    },
    "scrolled": false
   },
   "outputs": [
    {
     "name": "stdout",
     "output_type": "stream",
     "text": [
      "가능한 평가 방식:\n",
      "['accuracy', 'adjusted_mutual_info_score', 'adjusted_rand_score', 'average_precision', 'balanced_accuracy', 'completeness_score', 'explained_variance', 'f1', 'f1_macro', 'f1_micro', 'f1_samples', 'f1_weighted', 'fowlkes_mallows_score', 'homogeneity_score', 'jaccard', 'jaccard_macro', 'jaccard_micro', 'jaccard_samples', 'jaccard_weighted', 'max_error', 'mutual_info_score', 'neg_brier_score', 'neg_log_loss', 'neg_mean_absolute_error', 'neg_mean_gamma_deviance', 'neg_mean_poisson_deviance', 'neg_mean_squared_error', 'neg_mean_squared_log_error', 'neg_median_absolute_error', 'neg_root_mean_squared_error', 'normalized_mutual_info_score', 'precision', 'precision_macro', 'precision_micro', 'precision_samples', 'precision_weighted', 'r2', 'recall', 'recall_macro', 'recall_micro', 'recall_samples', 'recall_weighted', 'roc_auc', 'roc_auc_ovo', 'roc_auc_ovo_weighted', 'roc_auc_ovr', 'roc_auc_ovr_weighted', 'v_measure_score']\n"
     ]
    },
    {
     "name": "stderr",
     "output_type": "stream",
     "text": [
      "C:\\Users\\edu\\anaconda3\\lib\\site-packages\\sklearn\\utils\\deprecation.py:144: FutureWarning: The sklearn.metrics.scorer module is  deprecated in version 0.22 and will be removed in version 0.24. The corresponding classes / functions should instead be imported from sklearn.metrics. Anything that cannot be imported from sklearn.metrics is now part of the private API.\n",
      "  warnings.warn(message, FutureWarning)\n"
     ]
    }
   ],
   "source": [
    "from sklearn.metrics.scorer import SCORERS\n",
    "print(\"가능한 평가 방식:\\n{}\".format(sorted(SCORERS.keys())))"
   ]
  },
  {
   "cell_type": "markdown",
   "metadata": {},
   "source": [
    "# 경사 하강법을 사용한 선형 회귀"
   ]
  },
  {
   "cell_type": "code",
   "execution_count": 33,
   "metadata": {
    "ExecuteTime": {
     "end_time": "2020-08-24T02:36:38.179361Z",
     "start_time": "2020-08-24T02:36:38.172366Z"
    }
   },
   "outputs": [],
   "source": [
    "X_b = np.c_[np.ones((100, 1)), X]  # 모든 샘플에 x0 = 1을 추가\n",
    "# 세타 제로 하나만 남기기 위해, 편향에 해당하는! (행렬 곱 할때)\n",
    "\n",
    "X_new_b = np.c_[np.ones((2, 1)), X_new]  # 새 샘플에 x0 = 1을 추가\n",
    "# b에도 1을 붙였다. X_new는 샘플이 2개였다.\n",
    "# 끝에 b가 들어간건 bias가 들어갔다는 뜻이다"
   ]
  },
  {
   "cell_type": "code",
   "execution_count": 34,
   "metadata": {
    "ExecuteTime": {
     "end_time": "2020-08-24T02:36:38.482392Z",
     "start_time": "2020-08-24T02:36:38.461403Z"
    }
   },
   "outputs": [],
   "source": [
    "eta = 0.1\n",
    "# 에타라고 하는 것은 학습률을 말한다.\n",
    "\n",
    "n_iterations = 1000\n",
    "# 여러번 반복한다. 반복 횟수를 1000번이라고 정해뒀다.\n",
    "# 기울기를 구해서 세타를 업데이트 할 횟수를 말한다\n",
    "\n",
    "m = 100\n",
    "# m은 샘플의 개수이다.\n",
    "\n",
    "theta = np.random.randn(2, 1)\n",
    "# 세타는 랜덤하게 시작된다. 임의의 초기값\n",
    "\n",
    "# 반복을 시켜주는 for문\n",
    "for iteration in range(n_iterations):\n",
    "    gradients = 2 / m * X_b.T.dot(X_b.dot(theta) - y)  # 배치경사하강법의 비용함수 미분\n",
    "    theta = theta - eta * gradients \n",
    "#     print(theta)\n",
    "#     print(gradients) 이렇게 찍으면 진행되는 동안 계산 값을 볼 수 있다.\n",
    "\n",
    "\n",
    "# 처음 세타는 임의의 값이고 여기에서 기울기 구한것에 학습률 곱한것을 뺀다. \n",
    "# 이렇게 반복 계속 함. n_iterations 인 1000번 만큼\n"
   ]
  },
  {
   "cell_type": "code",
   "execution_count": 37,
   "metadata": {
    "ExecuteTime": {
     "end_time": "2020-08-24T02:44:25.698865Z",
     "start_time": "2020-08-24T02:44:25.684876Z"
    }
   },
   "outputs": [
    {
     "data": {
      "text/plain": [
       "array([[4.21509616],\n",
       "       [2.77011339]])"
      ]
     },
     "execution_count": 37,
     "metadata": {},
     "output_type": "execute_result"
    }
   ],
   "source": [
    "# 최종적인 theta값\n",
    "theta"
   ]
  },
  {
   "cell_type": "code",
   "execution_count": 36,
   "metadata": {
    "ExecuteTime": {
     "end_time": "2020-08-24T02:36:39.237625Z",
     "start_time": "2020-08-24T02:36:39.227631Z"
    }
   },
   "outputs": [
    {
     "data": {
      "text/plain": [
       "array([[4.21509616],\n",
       "       [9.75532293]])"
      ]
     },
     "execution_count": 36,
     "metadata": {},
     "output_type": "execute_result"
    }
   ],
   "source": [
    "X_new_b.dot(theta)"
   ]
  },
  {
   "cell_type": "markdown",
   "metadata": {},
   "source": [
    "# 확률적 경사 하강법"
   ]
  },
  {
   "cell_type": "code",
   "execution_count": 47,
   "metadata": {
    "ExecuteTime": {
     "end_time": "2020-08-24T03:18:05.419164Z",
     "start_time": "2020-08-24T03:18:05.415167Z"
    }
   },
   "outputs": [],
   "source": [
    "m = len(X_b)\n",
    "# print(X_b.shape)\n",
    "# print(m)\n",
    "np.random.seed(42)"
   ]
  },
  {
   "cell_type": "code",
   "execution_count": 39,
   "metadata": {
    "ExecuteTime": {
     "end_time": "2020-08-24T03:16:50.130936Z",
     "start_time": "2020-08-24T03:16:49.944054Z"
    }
   },
   "outputs": [],
   "source": [
    "n_epochs = 50\n",
    "t0, t1 = 5, 50  # 학습 스케줄 하이퍼파라미터 learning schedule hyperparameters\n",
    "\n",
    "\n",
    "def learning_schedule(t):\n",
    "    return t0 / (t + t1)  #0.1에서부터 t가 커질수록 줄어듬\n",
    "\n",
    "\n",
    "theta = np.random.randn(2, 1)  # 무작위 초기화\n",
    "\n",
    "for epoch in range(n_epochs):\n",
    "    for i in range(m):\n",
    "        random_index = np.random.randint(m)\n",
    "        xi = X_b[random_index:random_index + 1]  #100개중 하나의 샘플만 추출\n",
    "        yi = y[random_index:random_index + 1]\n",
    "        gradients = 2 * xi.T.dot(xi.dot(theta) - yi)\n",
    "        eta = learning_schedule(epoch * m + i)\n",
    "        theta = theta - eta * gradients"
   ]
  },
  {
   "cell_type": "code",
   "execution_count": 40,
   "metadata": {
    "ExecuteTime": {
     "end_time": "2020-08-24T03:16:50.859021Z",
     "start_time": "2020-08-24T03:16:50.840032Z"
    },
    "scrolled": true
   },
   "outputs": [
    {
     "data": {
      "text/plain": [
       "array([[4.21076011],\n",
       "       [2.74856079]])"
      ]
     },
     "execution_count": 40,
     "metadata": {},
     "output_type": "execute_result"
    }
   ],
   "source": [
    "theta"
   ]
  },
  {
   "cell_type": "code",
   "execution_count": 41,
   "metadata": {
    "ExecuteTime": {
     "end_time": "2020-08-24T03:16:51.559834Z",
     "start_time": "2020-08-24T03:16:51.544843Z"
    },
    "scrolled": true
   },
   "outputs": [
    {
     "data": {
      "text/plain": [
       "SGDRegressor(alpha=0.0001, average=False, early_stopping=False, epsilon=0.1,\n",
       "             eta0=0.1, fit_intercept=True, l1_ratio=0.15,\n",
       "             learning_rate='invscaling', loss='squared_loss', max_iter=50,\n",
       "             n_iter_no_change=5, penalty=None, power_t=0.25, random_state=42,\n",
       "             shuffle=True, tol=0.001, validation_fraction=0.1, verbose=0,\n",
       "             warm_start=False)"
      ]
     },
     "execution_count": 41,
     "metadata": {},
     "output_type": "execute_result"
    }
   ],
   "source": [
    "from sklearn.linear_model import SGDRegressor\n",
    "sgd_reg = SGDRegressor(max_iter=50, penalty=None, eta0=0.1, random_state=42)\n",
    "sgd_reg.fit(X, y.ravel())"
   ]
  },
  {
   "cell_type": "code",
   "execution_count": 42,
   "metadata": {
    "ExecuteTime": {
     "end_time": "2020-08-24T03:16:53.340007Z",
     "start_time": "2020-08-24T03:16:53.327017Z"
    }
   },
   "outputs": [
    {
     "data": {
      "text/plain": [
       "(array([4.24365286]), array([2.8250878]))"
      ]
     },
     "execution_count": 42,
     "metadata": {},
     "output_type": "execute_result"
    }
   ],
   "source": [
    "sgd_reg.intercept_, sgd_reg.coef_\n",
    "# 특성이 여러개가 된다면 coef_의 개수도 늘어난다"
   ]
  },
  {
   "cell_type": "markdown",
   "metadata": {},
   "source": [
    "# 다항 회귀"
   ]
  },
  {
   "cell_type": "code",
   "execution_count": 50,
   "metadata": {
    "ExecuteTime": {
     "end_time": "2020-08-24T07:20:02.482735Z",
     "start_time": "2020-08-24T07:20:02.468746Z"
    }
   },
   "outputs": [],
   "source": [
    "import numpy as np\n",
    "import numpy.random as rnd\n",
    "\n",
    "np.random.seed(42)"
   ]
  },
  {
   "cell_type": "code",
   "execution_count": 51,
   "metadata": {
    "ExecuteTime": {
     "end_time": "2020-08-24T07:20:03.021888Z",
     "start_time": "2020-08-24T07:20:03.012896Z"
    }
   },
   "outputs": [],
   "source": [
    "import matplotlib.pyplot as plt"
   ]
  },
  {
   "cell_type": "code",
   "execution_count": 52,
   "metadata": {
    "ExecuteTime": {
     "end_time": "2020-08-24T07:20:03.419364Z",
     "start_time": "2020-08-24T07:20:03.412367Z"
    }
   },
   "outputs": [],
   "source": [
    "m = 100\n",
    "X = 6 * np.random.rand(m, 1) - 3\n",
    "y = 0.5 * X**2 + X + 2 + np.random.randn(m, 1)"
   ]
  },
  {
   "cell_type": "code",
   "execution_count": 53,
   "metadata": {
    "ExecuteTime": {
     "end_time": "2020-08-24T07:20:04.050794Z",
     "start_time": "2020-08-24T07:20:03.876901Z"
    },
    "scrolled": false
   },
   "outputs": [
    {
     "data": {
      "image/png": "[encoded data removed]",
      "text/plain": [
       "<Figure size 432x288 with 1 Axes>"
      ]
     },
     "metadata": {
      "needs_background": "light"
     },
     "output_type": "display_data"
    }
   ],
   "source": [
    "plt.plot(X, y, \"b.\")\n",
    "plt.axis([-3, 3, 0, 10])\n",
    "plt.show()"
   ]
  },
  {
   "cell_type": "code",
   "execution_count": 54,
   "metadata": {
    "ExecuteTime": {
     "end_time": "2020-08-24T07:20:04.478448Z",
     "start_time": "2020-08-24T07:20:04.461459Z"
    }
   },
   "outputs": [
    {
     "name": "stdout",
     "output_type": "stream",
     "text": [
      "['x0', 'x0^2']\n"
     ]
    }
   ],
   "source": [
    "from sklearn.preprocessing import PolynomialFeatures\n",
    "poly_features = PolynomialFeatures(degree=2, include_bias=False)\n",
    "X_poly = poly_features.fit_transform(X)\n",
    "print(poly_features.get_feature_names())"
   ]
  },
  {
   "cell_type": "code",
   "execution_count": 55,
   "metadata": {
    "ExecuteTime": {
     "end_time": "2020-08-24T07:20:08.154667Z",
     "start_time": "2020-08-24T07:20:08.140679Z"
    }
   },
   "outputs": [
    {
     "data": {
      "text/plain": [
       "array([-0.75275929])"
      ]
     },
     "execution_count": 55,
     "metadata": {},
     "output_type": "execute_result"
    }
   ],
   "source": [
    "X[0]"
   ]
  },
  {
   "cell_type": "code",
   "execution_count": 56,
   "metadata": {
    "ExecuteTime": {
     "end_time": "2020-08-24T07:20:08.732661Z",
     "start_time": "2020-08-24T07:20:08.716671Z"
    }
   },
   "outputs": [
    {
     "data": {
      "text/plain": [
       "array([-0.75275929,  0.56664654])"
      ]
     },
     "execution_count": 56,
     "metadata": {},
     "output_type": "execute_result"
    }
   ],
   "source": [
    "X_poly[0]"
   ]
  },
  {
   "cell_type": "code",
   "execution_count": 57,
   "metadata": {
    "ExecuteTime": {
     "end_time": "2020-08-24T07:20:35.528535Z",
     "start_time": "2020-08-24T07:20:35.492561Z"
    }
   },
   "outputs": [
    {
     "data": {
      "text/plain": [
       "(array([1.78134581]), array([[0.93366893, 0.56456263]]))"
      ]
     },
     "execution_count": 57,
     "metadata": {},
     "output_type": "execute_result"
    }
   ],
   "source": [
    "lin_reg = LinearRegression()\n",
    "lin_reg.fit(X_poly, y)\n",
    "lin_reg.intercept_, lin_reg.coef_"
   ]
  },
  {
   "cell_type": "code",
   "execution_count": 60,
   "metadata": {
    "ExecuteTime": {
     "end_time": "2020-08-24T07:23:41.240071Z",
     "start_time": "2020-08-24T07:23:41.066179Z"
    }
   },
   "outputs": [
    {
     "data": {
      "image/png": "[encoded data removed]",
      "text/plain": [
       "<Figure size 432x288 with 1 Axes>"
      ]
     },
     "metadata": {
      "needs_background": "light"
     },
     "output_type": "display_data"
    }
   ],
   "source": [
    "X_new = np.linspace(-3, 3, 100).reshape(100, 1)\n",
    "# -3에서 3까지 구간을 100으로 나눈다는 것\n",
    "\n",
    "X_new_poly = poly_features.transform(X_new)\n",
    "# 원본 피처가 아니라 테스트 데이터를 만들게 됨, 제곱까지 추가해서!\n",
    "\n",
    "y_new = lin_reg.predict(X_new_poly)\n",
    "plt.plot(X, y, \"b.\")\n",
    "plt.plot(X_new, y_new, \"r-\", linewidth=2, label=\"predict\")\n",
    "plt.axis([-3, 3, 0, 10])\n",
    "plt.legend()\n",
    "plt.show()"
   ]
  },
  {
   "cell_type": "markdown",
   "metadata": {},
   "source": [
    "# 규제가 있는 모델"
   ]
  },
  {
   "cell_type": "markdown",
   "metadata": {},
   "source": [
    "## 릿지 회귀"
   ]
  },
  {
   "cell_type": "code",
   "execution_count": 48,
   "metadata": {
    "ExecuteTime": {
     "end_time": "2020-08-24T07:19:54.335823Z",
     "start_time": "2020-08-24T07:19:54.324832Z"
    }
   },
   "outputs": [],
   "source": [
    "np.random.seed(42)\n",
    "m = 20\n",
    "X = 3 * np.random.rand(m, 1)\n",
    "y = 1 + 0.5 * X + np.random.randn(m, 1) / 1.5\n",
    "X_new = np.linspace(0, 3, 100).reshape(100, 1)"
   ]
  },
  {
   "cell_type": "code",
   "execution_count": 49,
   "metadata": {
    "ExecuteTime": {
     "end_time": "2020-08-24T07:19:55.061691Z",
     "start_time": "2020-08-24T07:19:55.020831Z"
    }
   },
   "outputs": [
    {
     "data": {
      "text/plain": [
       "array([[1.55071465]])"
      ]
     },
     "execution_count": 49,
     "metadata": {},
     "output_type": "execute_result"
    }
   ],
   "source": [
    "from sklearn.linear_model import Ridge\n",
    "ridge_reg = Ridge(alpha=1, solver=\"cholesky\", random_state=42)\n",
    "ridge_reg.fit(X, y)\n",
    "ridge_reg.predict([[1.5]])"
   ]
  },
  {
   "cell_type": "code",
   "execution_count": 35,
   "metadata": {},
   "outputs": [
    {
     "data": {
      "text/plain": [
       "array([1.47012588])"
      ]
     },
     "execution_count": 35,
     "metadata": {},
     "output_type": "execute_result"
    }
   ],
   "source": [
    "sgd_reg = SGDRegressor(penalty=\"l2\", max_iter=1000, tol=1e-3, random_state=42)\n",
    "sgd_reg.fit(X, y.ravel())\n",
    "sgd_reg.predict([[1.5]])"
   ]
  },
  {
   "cell_type": "markdown",
   "metadata": {},
   "source": [
    "## 라쏘 회귀"
   ]
  },
  {
   "cell_type": "code",
   "execution_count": 36,
   "metadata": {},
   "outputs": [
    {
     "data": {
      "text/plain": [
       "array([1.53788174])"
      ]
     },
     "execution_count": 36,
     "metadata": {},
     "output_type": "execute_result"
    }
   ],
   "source": [
    "from sklearn.linear_model import Lasso\n",
    "lasso_reg = Lasso(alpha=0.1)\n",
    "lasso_reg.fit(X, y)\n",
    "lasso_reg.predict([[1.5]])"
   ]
  },
  {
   "cell_type": "markdown",
   "metadata": {},
   "source": [
    "## 엘라스틱넷"
   ]
  },
  {
   "cell_type": "code",
   "execution_count": 37,
   "metadata": {},
   "outputs": [
    {
     "data": {
      "text/plain": [
       "array([1.54333232])"
      ]
     },
     "execution_count": 37,
     "metadata": {},
     "output_type": "execute_result"
    }
   ],
   "source": [
    "from sklearn.linear_model import ElasticNet\n",
    "elastic_net = ElasticNet(alpha=0.1, l1_ratio=0.5, random_state=42)\n",
    "elastic_net.fit(X, y)\n",
    "elastic_net.predict([[1.5]])"
   ]
  },
  {
   "cell_type": "code",
   "execution_count": null,
   "metadata": {},
   "outputs": [],
   "source": []
  }
 ],
 "metadata": {
  "kernelspec": {
   "display_name": "Python 3",
   "language": "python",
   "name": "python3"
  },
  "language_info": {
   "codemirror_mode": {
    "name": "ipython",
    "version": 3
   },
   "file_extension": ".py",
   "mimetype": "text/x-python",
   "name": "python",
   "nbconvert_exporter": "python",
   "pygments_lexer": "ipython3",
   "version": "3.7.6"
  },
  "nav_menu": {},
  "toc": {
   "base_numbering": 1,
   "nav_menu": {},
   "number_sections": true,
   "sideBar": true,
   "skip_h1_title": false,
   "title_cell": "Table of Contents",
   "title_sidebar": "Contents",
   "toc_cell": false,
   "toc_position": {},
   "toc_section_display": "block",
   "toc_window_display": false
  },
  "varInspector": {
   "cols": {
    "lenName": 16,
    "lenType": 16,
    "lenVar": 40
   },
   "kernels_config": {
    "python": {
     "delete_cmd_postfix": "",
     "delete_cmd_prefix": "del ",
     "library": "var_list.py",
     "varRefreshCmd": "print(var_dic_list())"
    },
    "r": {
     "delete_cmd_postfix": ") ",
     "delete_cmd_prefix": "rm(",
     "library": "var_list.r",
     "varRefreshCmd": "cat(var_dic_list()) "
    }
   },
   "types_to_exclude": [
    "module",
    "function",
    "builtin_function_or_method",
    "instance",
    "_Feature"
   ],
   "window_display": false
  }
 },
 "nbformat": 4,
 "nbformat_minor": 1
}
