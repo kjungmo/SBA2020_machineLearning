{
 "cells": [
  {
   "cell_type": "markdown",
   "metadata": {},
   "source": [
    "# 결정 트리 실습 - Human Activity Recognition"
   ]
  },
  {
   "cell_type": "code",
   "execution_count": 1,
   "metadata": {
    "ExecuteTime": {
     "end_time": "2020-08-26T06:59:35.469722Z",
     "start_time": "2020-08-26T06:59:34.463344Z"
    }
   },
   "outputs": [],
   "source": [
    "import pandas as pd\n",
    "import matplotlib.pyplot as plt\n",
    "%matplotlib inline"
   ]
  },
  {
   "cell_type": "code",
   "execution_count": 3,
   "metadata": {
    "ExecuteTime": {
     "end_time": "2020-08-26T06:59:48.643611Z",
     "start_time": "2020-08-26T06:59:47.320214Z"
    }
   },
   "outputs": [],
   "source": [
    "train = pd.read_csv('human_activity\\\\train.csv')\n",
    "test = pd.read_csv('human_activity\\\\test.csv')"
   ]
  },
  {
   "cell_type": "code",
   "execution_count": 4,
   "metadata": {
    "ExecuteTime": {
     "end_time": "2020-08-26T06:59:49.192010Z",
     "start_time": "2020-08-26T06:59:49.168026Z"
    }
   },
   "outputs": [
    {
     "name": "stdout",
     "output_type": "stream",
     "text": [
      "<class 'pandas.core.frame.DataFrame'>\n",
      "RangeIndex: 7352 entries, 0 to 7351\n",
      "Columns: 563 entries, tBodyAcc-mean()-X to Activity\n",
      "dtypes: float64(561), int64(1), object(1)\n",
      "memory usage: 31.6+ MB\n"
     ]
    }
   ],
   "source": [
    "train.info()"
   ]
  },
  {
   "cell_type": "code",
   "execution_count": 5,
   "metadata": {
    "ExecuteTime": {
     "end_time": "2020-08-26T06:59:49.790171Z",
     "start_time": "2020-08-26T06:59:49.768186Z"
    },
    "scrolled": false
   },
   "outputs": [
    {
     "data": {
      "text/plain": [
       "LAYING                1407\n",
       "STANDING              1374\n",
       "SITTING               1286\n",
       "WALKING               1226\n",
       "WALKING_UPSTAIRS      1073\n",
       "WALKING_DOWNSTAIRS     986\n",
       "Name: Activity, dtype: int64"
      ]
     },
     "execution_count": 5,
     "metadata": {},
     "output_type": "execute_result"
    }
   ],
   "source": [
    "train['Activity'].value_counts()"
   ]
  },
  {
   "cell_type": "code",
   "execution_count": 6,
   "metadata": {
    "ExecuteTime": {
     "end_time": "2020-08-26T06:59:50.405379Z",
     "start_time": "2020-08-26T06:59:50.354413Z"
    }
   },
   "outputs": [
    {
     "data": {
      "text/html": [
       "<div>\n",
       "<style scoped>\n",
       "    .dataframe tbody tr th:only-of-type {\n",
       "        vertical-align: middle;\n",
       "    }\n",
       "\n",
       "    .dataframe tbody tr th {\n",
       "        vertical-align: top;\n",
       "    }\n",
       "\n",
       "    .dataframe thead th {\n",
       "        text-align: right;\n",
       "    }\n",
       "</style>\n",
       "<table border=\"1\" class=\"dataframe\">\n",
       "  <thead>\n",
       "    <tr style=\"text-align: right;\">\n",
       "      <th></th>\n",
       "      <th>tBodyAcc-mean()-X</th>\n",
       "      <th>tBodyAcc-mean()-Y</th>\n",
       "      <th>tBodyAcc-mean()-Z</th>\n",
       "      <th>tBodyAcc-std()-X</th>\n",
       "      <th>tBodyAcc-std()-Y</th>\n",
       "      <th>tBodyAcc-std()-Z</th>\n",
       "      <th>tBodyAcc-mad()-X</th>\n",
       "      <th>tBodyAcc-mad()-Y</th>\n",
       "      <th>tBodyAcc-mad()-Z</th>\n",
       "      <th>tBodyAcc-max()-X</th>\n",
       "      <th>...</th>\n",
       "      <th>fBodyBodyGyroJerkMag-kurtosis()</th>\n",
       "      <th>angle(tBodyAccMean,gravity)</th>\n",
       "      <th>angle(tBodyAccJerkMean),gravityMean)</th>\n",
       "      <th>angle(tBodyGyroMean,gravityMean)</th>\n",
       "      <th>angle(tBodyGyroJerkMean,gravityMean)</th>\n",
       "      <th>angle(X,gravityMean)</th>\n",
       "      <th>angle(Y,gravityMean)</th>\n",
       "      <th>angle(Z,gravityMean)</th>\n",
       "      <th>subject</th>\n",
       "      <th>Activity</th>\n",
       "    </tr>\n",
       "  </thead>\n",
       "  <tbody>\n",
       "    <tr>\n",
       "      <th>0</th>\n",
       "      <td>0.288585</td>\n",
       "      <td>-0.020294</td>\n",
       "      <td>-0.132905</td>\n",
       "      <td>-0.995279</td>\n",
       "      <td>-0.983111</td>\n",
       "      <td>-0.913526</td>\n",
       "      <td>-0.995112</td>\n",
       "      <td>-0.983185</td>\n",
       "      <td>-0.923527</td>\n",
       "      <td>-0.934724</td>\n",
       "      <td>...</td>\n",
       "      <td>-0.710304</td>\n",
       "      <td>-0.112754</td>\n",
       "      <td>0.030400</td>\n",
       "      <td>-0.464761</td>\n",
       "      <td>-0.018446</td>\n",
       "      <td>-0.841247</td>\n",
       "      <td>0.179941</td>\n",
       "      <td>-0.058627</td>\n",
       "      <td>1</td>\n",
       "      <td>STANDING</td>\n",
       "    </tr>\n",
       "    <tr>\n",
       "      <th>1</th>\n",
       "      <td>0.278419</td>\n",
       "      <td>-0.016411</td>\n",
       "      <td>-0.123520</td>\n",
       "      <td>-0.998245</td>\n",
       "      <td>-0.975300</td>\n",
       "      <td>-0.960322</td>\n",
       "      <td>-0.998807</td>\n",
       "      <td>-0.974914</td>\n",
       "      <td>-0.957686</td>\n",
       "      <td>-0.943068</td>\n",
       "      <td>...</td>\n",
       "      <td>-0.861499</td>\n",
       "      <td>0.053477</td>\n",
       "      <td>-0.007435</td>\n",
       "      <td>-0.732626</td>\n",
       "      <td>0.703511</td>\n",
       "      <td>-0.844788</td>\n",
       "      <td>0.180289</td>\n",
       "      <td>-0.054317</td>\n",
       "      <td>1</td>\n",
       "      <td>STANDING</td>\n",
       "    </tr>\n",
       "    <tr>\n",
       "      <th>2</th>\n",
       "      <td>0.279653</td>\n",
       "      <td>-0.019467</td>\n",
       "      <td>-0.113462</td>\n",
       "      <td>-0.995380</td>\n",
       "      <td>-0.967187</td>\n",
       "      <td>-0.978944</td>\n",
       "      <td>-0.996520</td>\n",
       "      <td>-0.963668</td>\n",
       "      <td>-0.977469</td>\n",
       "      <td>-0.938692</td>\n",
       "      <td>...</td>\n",
       "      <td>-0.760104</td>\n",
       "      <td>-0.118559</td>\n",
       "      <td>0.177899</td>\n",
       "      <td>0.100699</td>\n",
       "      <td>0.808529</td>\n",
       "      <td>-0.848933</td>\n",
       "      <td>0.180637</td>\n",
       "      <td>-0.049118</td>\n",
       "      <td>1</td>\n",
       "      <td>STANDING</td>\n",
       "    </tr>\n",
       "  </tbody>\n",
       "</table>\n",
       "<p>3 rows × 563 columns</p>\n",
       "</div>"
      ],
      "text/plain": [
       "   tBodyAcc-mean()-X  tBodyAcc-mean()-Y  tBodyAcc-mean()-Z  tBodyAcc-std()-X  \\\n",
       "0           0.288585          -0.020294          -0.132905         -0.995279   \n",
       "1           0.278419          -0.016411          -0.123520         -0.998245   \n",
       "2           0.279653          -0.019467          -0.113462         -0.995380   \n",
       "\n",
       "   tBodyAcc-std()-Y  tBodyAcc-std()-Z  tBodyAcc-mad()-X  tBodyAcc-mad()-Y  \\\n",
       "0         -0.983111         -0.913526         -0.995112         -0.983185   \n",
       "1         -0.975300         -0.960322         -0.998807         -0.974914   \n",
       "2         -0.967187         -0.978944         -0.996520         -0.963668   \n",
       "\n",
       "   tBodyAcc-mad()-Z  tBodyAcc-max()-X  ...  fBodyBodyGyroJerkMag-kurtosis()  \\\n",
       "0         -0.923527         -0.934724  ...                        -0.710304   \n",
       "1         -0.957686         -0.943068  ...                        -0.861499   \n",
       "2         -0.977469         -0.938692  ...                        -0.760104   \n",
       "\n",
       "   angle(tBodyAccMean,gravity)  angle(tBodyAccJerkMean),gravityMean)  \\\n",
       "0                    -0.112754                              0.030400   \n",
       "1                     0.053477                             -0.007435   \n",
       "2                    -0.118559                              0.177899   \n",
       "\n",
       "   angle(tBodyGyroMean,gravityMean)  angle(tBodyGyroJerkMean,gravityMean)  \\\n",
       "0                         -0.464761                             -0.018446   \n",
       "1                         -0.732626                              0.703511   \n",
       "2                          0.100699                              0.808529   \n",
       "\n",
       "   angle(X,gravityMean)  angle(Y,gravityMean)  angle(Z,gravityMean)  subject  \\\n",
       "0             -0.841247              0.179941             -0.058627        1   \n",
       "1             -0.844788              0.180289             -0.054317        1   \n",
       "2             -0.848933              0.180637             -0.049118        1   \n",
       "\n",
       "   Activity  \n",
       "0  STANDING  \n",
       "1  STANDING  \n",
       "2  STANDING  \n",
       "\n",
       "[3 rows x 563 columns]"
      ]
     },
     "execution_count": 6,
     "metadata": {},
     "output_type": "execute_result"
    }
   ],
   "source": [
    "train.head(3)"
   ]
  },
  {
   "cell_type": "code",
   "execution_count": 7,
   "metadata": {
    "ExecuteTime": {
     "end_time": "2020-08-26T06:59:51.260155Z",
     "start_time": "2020-08-26T06:59:51.239171Z"
    }
   },
   "outputs": [
    {
     "data": {
      "text/plain": [
       "25    409\n",
       "21    408\n",
       "26    392\n",
       "30    383\n",
       "28    382\n",
       "27    376\n",
       "23    372\n",
       "17    368\n",
       "16    366\n",
       "19    360\n",
       "1     347\n",
       "29    344\n",
       "3     341\n",
       "15    328\n",
       "6     325\n",
       "14    323\n",
       "22    321\n",
       "11    316\n",
       "7     308\n",
       "5     302\n",
       "8     281\n",
       "Name: subject, dtype: int64"
      ]
     },
     "execution_count": 7,
     "metadata": {},
     "output_type": "execute_result"
    }
   ],
   "source": [
    "train['subject'].value_counts()"
   ]
  },
  {
   "cell_type": "code",
   "execution_count": 8,
   "metadata": {
    "ExecuteTime": {
     "end_time": "2020-08-26T06:59:51.637148Z",
     "start_time": "2020-08-26T06:59:51.608166Z"
    }
   },
   "outputs": [
    {
     "data": {
      "text/plain": [
       "0"
      ]
     },
     "execution_count": 8,
     "metadata": {},
     "output_type": "execute_result"
    }
   ],
   "source": [
    "train.isna().values.sum()"
   ]
  },
  {
   "cell_type": "code",
   "execution_count": 9,
   "metadata": {
    "ExecuteTime": {
     "end_time": "2020-08-26T06:59:52.254145Z",
     "start_time": "2020-08-26T06:59:52.233156Z"
    }
   },
   "outputs": [
    {
     "data": {
      "text/plain": [
       "0"
      ]
     },
     "execution_count": 9,
     "metadata": {},
     "output_type": "execute_result"
    }
   ],
   "source": [
    "test.isna().values.sum()"
   ]
  },
  {
   "cell_type": "code",
   "execution_count": 10,
   "metadata": {
    "ExecuteTime": {
     "end_time": "2020-08-26T06:59:52.710987Z",
     "start_time": "2020-08-26T06:59:52.687001Z"
    }
   },
   "outputs": [],
   "source": [
    "X_train = train.drop(['subject', 'Activity'], axis=1)\n",
    "y_train = train.Activity"
   ]
  },
  {
   "cell_type": "code",
   "execution_count": 11,
   "metadata": {
    "ExecuteTime": {
     "end_time": "2020-08-26T06:59:53.013074Z",
     "start_time": "2020-08-26T06:59:53.000082Z"
    }
   },
   "outputs": [],
   "source": [
    "X_test = test.drop(['subject', 'Activity'], axis=1)\n",
    "y_test = test.Activity"
   ]
  },
  {
   "cell_type": "code",
   "execution_count": 12,
   "metadata": {
    "ExecuteTime": {
     "end_time": "2020-08-26T06:59:53.501132Z",
     "start_time": "2020-08-26T06:59:53.487140Z"
    }
   },
   "outputs": [
    {
     "data": {
      "text/plain": [
       "(7352, 561)"
      ]
     },
     "execution_count": 12,
     "metadata": {},
     "output_type": "execute_result"
    }
   ],
   "source": [
    "X_train.shape"
   ]
  },
  {
   "cell_type": "code",
   "execution_count": 13,
   "metadata": {
    "ExecuteTime": {
     "end_time": "2020-08-26T06:59:54.071126Z",
     "start_time": "2020-08-26T06:59:54.056136Z"
    }
   },
   "outputs": [
    {
     "data": {
      "text/plain": [
       "(2947, 561)"
      ]
     },
     "execution_count": 13,
     "metadata": {},
     "output_type": "execute_result"
    }
   ],
   "source": [
    "X_test.shape"
   ]
  },
  {
   "cell_type": "markdown",
   "metadata": {},
   "source": [
    "## Logistic Regression  + hyperparameter tuning + cross validation"
   ]
  },
  {
   "cell_type": "code",
   "execution_count": 14,
   "metadata": {
    "ExecuteTime": {
     "end_time": "2020-08-26T06:59:55.105658Z",
     "start_time": "2020-08-26T06:59:55.095666Z"
    }
   },
   "outputs": [],
   "source": [
    "import warnings\n",
    "warnings.filterwarnings(\"ignore\")"
   ]
  },
  {
   "cell_type": "code",
   "execution_count": 15,
   "metadata": {
    "ExecuteTime": {
     "end_time": "2020-08-26T07:00:20.520714Z",
     "start_time": "2020-08-26T06:59:56.608104Z"
    }
   },
   "outputs": [
    {
     "name": "stdout",
     "output_type": "stream",
     "text": [
      "Fitting 5 folds for each of 10 candidates, totalling 50 fits\n",
      "[CV] penalty=l2, C=10 ................................................\n"
     ]
    },
    {
     "name": "stderr",
     "output_type": "stream",
     "text": [
      "[Parallel(n_jobs=1)]: Using backend SequentialBackend with 1 concurrent workers.\n"
     ]
    },
    {
     "name": "stdout",
     "output_type": "stream",
     "text": [
      "[CV] ................................. penalty=l2, C=10, total=   1.1s\n",
      "[CV] penalty=l2, C=10 ................................................\n"
     ]
    },
    {
     "name": "stderr",
     "output_type": "stream",
     "text": [
      "[Parallel(n_jobs=1)]: Done   1 out of   1 | elapsed:    1.0s remaining:    0.0s\n"
     ]
    },
    {
     "name": "stdout",
     "output_type": "stream",
     "text": [
      "[CV] ................................. penalty=l2, C=10, total=   1.1s\n",
      "[CV] penalty=l2, C=10 ................................................\n",
      "[CV] ................................. penalty=l2, C=10, total=   1.1s\n",
      "[CV] penalty=l2, C=10 ................................................\n",
      "[CV] ................................. penalty=l2, C=10, total=   1.1s\n",
      "[CV] penalty=l2, C=10 ................................................\n",
      "[CV] ................................. penalty=l2, C=10, total=   1.0s\n",
      "[CV] penalty=l1, C=10 ................................................\n",
      "[CV] ................................. penalty=l1, C=10, total=   0.0s\n",
      "[CV] penalty=l1, C=10 ................................................\n",
      "[CV] ................................. penalty=l1, C=10, total=   0.0s\n",
      "[CV] penalty=l1, C=10 ................................................\n",
      "[CV] ................................. penalty=l1, C=10, total=   0.0s\n",
      "[CV] penalty=l1, C=10 ................................................\n",
      "[CV] ................................. penalty=l1, C=10, total=   0.0s\n",
      "[CV] penalty=l1, C=10 ................................................\n",
      "[CV] ................................. penalty=l1, C=10, total=   0.0s\n",
      "[CV] penalty=l2, C=50 ................................................\n",
      "[CV] ................................. penalty=l2, C=50, total=   1.0s\n",
      "[CV] penalty=l2, C=50 ................................................\n",
      "[CV] ................................. penalty=l2, C=50, total=   1.1s\n",
      "[CV] penalty=l2, C=50 ................................................\n",
      "[CV] ................................. penalty=l2, C=50, total=   1.0s\n",
      "[CV] penalty=l2, C=50 ................................................\n",
      "[CV] ................................. penalty=l2, C=50, total=   1.0s\n",
      "[CV] penalty=l2, C=50 ................................................\n",
      "[CV] ................................. penalty=l2, C=50, total=   1.1s\n",
      "[CV] penalty=l1, C=30 ................................................\n",
      "[CV] ................................. penalty=l1, C=30, total=   0.0s\n",
      "[CV] penalty=l1, C=30 ................................................\n",
      "[CV] ................................. penalty=l1, C=30, total=   0.0s\n",
      "[CV] penalty=l1, C=30 ................................................\n",
      "[CV] ................................. penalty=l1, C=30, total=   0.0s\n",
      "[CV] penalty=l1, C=30 ................................................\n",
      "[CV] ................................. penalty=l1, C=30, total=   0.0s\n",
      "[CV] penalty=l1, C=30 ................................................\n",
      "[CV] ................................. penalty=l1, C=30, total=   0.0s\n",
      "[CV] penalty=l1, C=20 ................................................\n",
      "[CV] ................................. penalty=l1, C=20, total=   0.0s\n",
      "[CV] penalty=l1, C=20 ................................................\n",
      "[CV] ................................. penalty=l1, C=20, total=   0.0s\n",
      "[CV] penalty=l1, C=20 ................................................\n",
      "[CV] ................................. penalty=l1, C=20, total=   0.0s\n",
      "[CV] penalty=l1, C=20 ................................................\n",
      "[CV] ................................. penalty=l1, C=20, total=   0.0s\n",
      "[CV] penalty=l1, C=20 ................................................\n",
      "[CV] ................................. penalty=l1, C=20, total=   0.0s\n",
      "[CV] penalty=l1, C=70 ................................................\n",
      "[CV] ................................. penalty=l1, C=70, total=   0.0s\n",
      "[CV] penalty=l1, C=70 ................................................\n",
      "[CV] ................................. penalty=l1, C=70, total=   0.0s\n",
      "[CV] penalty=l1, C=70 ................................................\n",
      "[CV] ................................. penalty=l1, C=70, total=   0.0s\n",
      "[CV] penalty=l1, C=70 ................................................\n",
      "[CV] ................................. penalty=l1, C=70, total=   0.0s\n",
      "[CV] penalty=l1, C=70 ................................................\n",
      "[CV] ................................. penalty=l1, C=70, total=   0.0s\n",
      "[CV] penalty=l2, C=90 ................................................\n",
      "[CV] ................................. penalty=l2, C=90, total=   1.0s\n",
      "[CV] penalty=l2, C=90 ................................................\n",
      "[CV] ................................. penalty=l2, C=90, total=   1.0s\n",
      "[CV] penalty=l2, C=90 ................................................\n",
      "[CV] ................................. penalty=l2, C=90, total=   1.1s\n",
      "[CV] penalty=l2, C=90 ................................................\n",
      "[CV] ................................. penalty=l2, C=90, total=   1.0s\n",
      "[CV] penalty=l2, C=90 ................................................\n",
      "[CV] ................................. penalty=l2, C=90, total=   1.1s\n",
      "[CV] penalty=l1, C=80 ................................................\n",
      "[CV] ................................. penalty=l1, C=80, total=   0.0s\n",
      "[CV] penalty=l1, C=80 ................................................\n",
      "[CV] ................................. penalty=l1, C=80, total=   0.0s\n",
      "[CV] penalty=l1, C=80 ................................................\n",
      "[CV] ................................. penalty=l1, C=80, total=   0.0s\n",
      "[CV] penalty=l1, C=80 ................................................\n",
      "[CV] ................................. penalty=l1, C=80, total=   0.0s\n",
      "[CV] penalty=l1, C=80 ................................................\n",
      "[CV] ................................. penalty=l1, C=80, total=   0.0s\n",
      "[CV] penalty=l1, C=60 ................................................\n",
      "[CV] ................................. penalty=l1, C=60, total=   0.0s\n",
      "[CV] penalty=l1, C=60 ................................................\n",
      "[CV] ................................. penalty=l1, C=60, total=   0.0s\n",
      "[CV] penalty=l1, C=60 ................................................\n",
      "[CV] ................................. penalty=l1, C=60, total=   0.0s\n",
      "[CV] penalty=l1, C=60 ................................................\n",
      "[CV] ................................. penalty=l1, C=60, total=   0.0s\n",
      "[CV] penalty=l1, C=60 ................................................\n",
      "[CV] ................................. penalty=l1, C=60, total=   0.0s\n",
      "[CV] penalty=l2, C=20 ................................................\n",
      "[CV] ................................. penalty=l2, C=20, total=   1.0s\n",
      "[CV] penalty=l2, C=20 ................................................\n",
      "[CV] ................................. penalty=l2, C=20, total=   1.0s\n",
      "[CV] penalty=l2, C=20 ................................................\n",
      "[CV] ................................. penalty=l2, C=20, total=   1.1s\n",
      "[CV] penalty=l2, C=20 ................................................\n",
      "[CV] ................................. penalty=l2, C=20, total=   1.0s\n",
      "[CV] penalty=l2, C=20 ................................................\n",
      "[CV] ................................. penalty=l2, C=20, total=   1.0s\n"
     ]
    },
    {
     "name": "stderr",
     "output_type": "stream",
     "text": [
      "[Parallel(n_jobs=1)]: Done  50 out of  50 | elapsed:   21.6s finished\n"
     ]
    },
    {
     "data": {
      "text/plain": [
       "RandomizedSearchCV(cv=5, error_score=nan,\n",
       "                   estimator=LogisticRegression(C=1.0, class_weight=None,\n",
       "                                                dual=False, fit_intercept=True,\n",
       "                                                intercept_scaling=1,\n",
       "                                                l1_ratio=None, max_iter=100,\n",
       "                                                multi_class='auto', n_jobs=None,\n",
       "                                                penalty='l2', random_state=None,\n",
       "                                                solver='lbfgs', tol=0.0001,\n",
       "                                                verbose=0, warm_start=False),\n",
       "                   iid='deprecated', n_iter=10, n_jobs=None,\n",
       "                   param_distributions={'C': array([10, 20, 30, 40, 50, 60, 70, 80, 90]),\n",
       "                                        'penalty': ['l2', 'l1']},\n",
       "                   pre_dispatch='2*n_jobs', random_state=42, refit=True,\n",
       "                   return_train_score=False, scoring=None, verbose=2)"
      ]
     },
     "execution_count": 15,
     "metadata": {},
     "output_type": "execute_result"
    }
   ],
   "source": [
    "from sklearn. linear_model import LogisticRegression\n",
    "from sklearn.model_selection import RandomizedSearchCV\n",
    "\n",
    "parameters = {'C':np.arange(10,100,10), 'penalty':['l2','l1']}\n",
    "\n",
    "lr_clf = LogisticRegression()\n",
    "lr_clf_rs = RandomizedSearchCV(lr_clf, param_distributions=parameters, cv=5,random_state = 42, verbose=2)\n",
    "lr_clf_rs.fit(X_train, y_train)"
   ]
  },
  {
   "cell_type": "code",
   "execution_count": 16,
   "metadata": {
    "ExecuteTime": {
     "end_time": "2020-08-26T07:02:00.948643Z",
     "start_time": "2020-08-26T07:02:00.942645Z"
    }
   },
   "outputs": [
    {
     "name": "stdout",
     "output_type": "stream",
     "text": [
      "Best Estimator :  LogisticRegression(C=50, class_weight=None, dual=False, fit_intercept=True,\n",
      "                   intercept_scaling=1, l1_ratio=None, max_iter=100,\n",
      "                   multi_class='auto', n_jobs=None, penalty='l2',\n",
      "                   random_state=None, solver='lbfgs', tol=0.0001, verbose=0,\n",
      "                   warm_start=False)\n",
      "Best Parameters :  {'penalty': 'l2', 'C': 50}\n",
      "Best Score :  0.9332216040733086\n"
     ]
    }
   ],
   "source": [
    "print(\"Best Estimator : \", lr_clf_rs.best_estimator_)\n",
    "print(\"Best Parameters : \", lr_clf_rs.best_params_)\n",
    "print(\"Best Score : \", lr_clf_rs.best_score_)"
   ]
  },
  {
   "cell_type": "code",
   "execution_count": 17,
   "metadata": {
    "ExecuteTime": {
     "end_time": "2020-08-26T07:02:01.659627Z",
     "start_time": "2020-08-26T07:02:01.645639Z"
    }
   },
   "outputs": [],
   "source": [
    "y_pred = lr_clf_rs.predict(X_test)"
   ]
  },
  {
   "cell_type": "code",
   "execution_count": 18,
   "metadata": {
    "ExecuteTime": {
     "end_time": "2020-08-26T07:02:02.601223Z",
     "start_time": "2020-08-26T07:02:02.590231Z"
    }
   },
   "outputs": [
    {
     "data": {
      "text/plain": [
       "0.9569053274516457"
      ]
     },
     "execution_count": 18,
     "metadata": {},
     "output_type": "execute_result"
    }
   ],
   "source": [
    "from sklearn.metrics import accuracy_score\n",
    "\n",
    "accuracy_score(y_test, y_pred)"
   ]
  },
  {
   "cell_type": "markdown",
   "metadata": {},
   "source": [
    "### confusion matrix"
   ]
  },
  {
   "cell_type": "code",
   "execution_count": 19,
   "metadata": {
    "ExecuteTime": {
     "end_time": "2020-08-26T07:02:04.099589Z",
     "start_time": "2020-08-26T07:02:04.069608Z"
    }
   },
   "outputs": [
    {
     "data": {
      "text/plain": [
       "array([[537,   0,   0,   0,   0,   0],\n",
       "       [  0, 427,  62,   0,   0,   2],\n",
       "       [  0,  11, 521,   0,   0,   0],\n",
       "       [  0,   0,   0, 492,   2,   2],\n",
       "       [  0,   0,   0,   6, 403,  11],\n",
       "       [  0,   0,   0,  26,   5, 440]], dtype=int64)"
      ]
     },
     "execution_count": 19,
     "metadata": {},
     "output_type": "execute_result"
    }
   ],
   "source": [
    "from sklearn.metrics import confusion_matrix\n",
    "\n",
    "confusion_matrix(y_test, y_pred)"
   ]
  },
  {
   "cell_type": "markdown",
   "metadata": {},
   "source": [
    "* Decision Tree  + hyperparameter tuning + cross validation"
   ]
  },
  {
   "cell_type": "code",
   "execution_count": 20,
   "metadata": {
    "ExecuteTime": {
     "end_time": "2020-08-26T07:02:39.569614Z",
     "start_time": "2020-08-26T07:02:05.726592Z"
    }
   },
   "outputs": [
    {
     "name": "stdout",
     "output_type": "stream",
     "text": [
      "Fitting 5 folds for each of 4 candidates, totalling 20 fits\n",
      "[CV] max_depth=2 .....................................................\n"
     ]
    },
    {
     "name": "stderr",
     "output_type": "stream",
     "text": [
      "[Parallel(n_jobs=1)]: Using backend SequentialBackend with 1 concurrent workers.\n"
     ]
    },
    {
     "name": "stdout",
     "output_type": "stream",
     "text": [
      "[CV] ...................................... max_depth=2, total=   0.7s\n",
      "[CV] max_depth=2 .....................................................\n"
     ]
    },
    {
     "name": "stderr",
     "output_type": "stream",
     "text": [
      "[Parallel(n_jobs=1)]: Done   1 out of   1 | elapsed:    0.6s remaining:    0.0s\n"
     ]
    },
    {
     "name": "stdout",
     "output_type": "stream",
     "text": [
      "[CV] ...................................... max_depth=2, total=   0.7s\n",
      "[CV] max_depth=2 .....................................................\n",
      "[CV] ...................................... max_depth=2, total=   0.7s\n",
      "[CV] max_depth=2 .....................................................\n",
      "[CV] ...................................... max_depth=2, total=   0.7s\n",
      "[CV] max_depth=2 .....................................................\n",
      "[CV] ...................................... max_depth=2, total=   0.7s\n",
      "[CV] max_depth=4 .....................................................\n",
      "[CV] ...................................... max_depth=4, total=   1.3s\n",
      "[CV] max_depth=4 .....................................................\n",
      "[CV] ...................................... max_depth=4, total=   1.3s\n",
      "[CV] max_depth=4 .....................................................\n",
      "[CV] ...................................... max_depth=4, total=   1.4s\n",
      "[CV] max_depth=4 .....................................................\n",
      "[CV] ...................................... max_depth=4, total=   1.3s\n",
      "[CV] max_depth=4 .....................................................\n",
      "[CV] ...................................... max_depth=4, total=   1.3s\n",
      "[CV] max_depth=6 .....................................................\n",
      "[CV] ...................................... max_depth=6, total=   1.8s\n",
      "[CV] max_depth=6 .....................................................\n",
      "[CV] ...................................... max_depth=6, total=   1.8s\n",
      "[CV] max_depth=6 .....................................................\n",
      "[CV] ...................................... max_depth=6, total=   1.8s\n",
      "[CV] max_depth=6 .....................................................\n",
      "[CV] ...................................... max_depth=6, total=   1.8s\n",
      "[CV] max_depth=6 .....................................................\n",
      "[CV] ...................................... max_depth=6, total=   2.0s\n",
      "[CV] max_depth=8 .....................................................\n",
      "[CV] ...................................... max_depth=8, total=   2.4s\n",
      "[CV] max_depth=8 .....................................................\n",
      "[CV] ...................................... max_depth=8, total=   2.3s\n",
      "[CV] max_depth=8 .....................................................\n",
      "[CV] ...................................... max_depth=8, total=   2.2s\n",
      "[CV] max_depth=8 .....................................................\n",
      "[CV] ...................................... max_depth=8, total=   2.3s\n",
      "[CV] max_depth=8 .....................................................\n",
      "[CV] ...................................... max_depth=8, total=   2.3s\n"
     ]
    },
    {
     "name": "stderr",
     "output_type": "stream",
     "text": [
      "[Parallel(n_jobs=1)]: Done  20 out of  20 | elapsed:   30.8s finished\n"
     ]
    }
   ],
   "source": [
    "from sklearn.tree import DecisionTreeClassifier\n",
    "\n",
    "parameters = {'max_depth':np.arange(2,10,2)}\n",
    "\n",
    "dt_clf = DecisionTreeClassifier()\n",
    "dt_clf_rs = RandomizedSearchCV(dt_clf, param_distributions=parameters, random_state = 42, verbose=2)\n",
    "dt_clf_rs.fit(X_train, y_train)\n",
    "y_pred = dt_clf_rs.predict(X_test)"
   ]
  },
  {
   "cell_type": "code",
   "execution_count": 21,
   "metadata": {
    "ExecuteTime": {
     "end_time": "2020-08-26T07:02:44.969115Z",
     "start_time": "2020-08-26T07:02:44.958123Z"
    }
   },
   "outputs": [
    {
     "name": "stdout",
     "output_type": "stream",
     "text": [
      "Best Estimator :  DecisionTreeClassifier(ccp_alpha=0.0, class_weight=None, criterion='gini',\n",
      "                       max_depth=8, max_features=None, max_leaf_nodes=None,\n",
      "                       min_impurity_decrease=0.0, min_impurity_split=None,\n",
      "                       min_samples_leaf=1, min_samples_split=2,\n",
      "                       min_weight_fraction_leaf=0.0, presort='deprecated',\n",
      "                       random_state=None, splitter='best')\n",
      "Best Parameters :  {'max_depth': 8}\n",
      "Best Score :  0.8512051129085216\n"
     ]
    }
   ],
   "source": [
    "print(\"Best Estimator : \", dt_clf_rs.best_estimator_)\n",
    "print(\"Best Parameters : \", dt_clf_rs.best_params_)\n",
    "print(\"Best Score : \", dt_clf_rs.best_score_)"
   ]
  },
  {
   "cell_type": "code",
   "execution_count": 22,
   "metadata": {
    "ExecuteTime": {
     "end_time": "2020-08-26T07:02:45.508569Z",
     "start_time": "2020-08-26T07:02:45.493581Z"
    }
   },
   "outputs": [],
   "source": [
    "y_pred = dt_clf_rs.predict(X_test)"
   ]
  },
  {
   "cell_type": "code",
   "execution_count": 23,
   "metadata": {
    "ExecuteTime": {
     "end_time": "2020-08-26T07:02:46.876097Z",
     "start_time": "2020-08-26T07:02:46.861108Z"
    }
   },
   "outputs": [
    {
     "data": {
      "text/plain": [
       "0.8717339667458432"
      ]
     },
     "execution_count": 23,
     "metadata": {},
     "output_type": "execute_result"
    }
   ],
   "source": [
    "from sklearn.metrics import accuracy_score\n",
    "\n",
    "accuracy_score(y_test, y_pred)"
   ]
  },
  {
   "cell_type": "code",
   "execution_count": 24,
   "metadata": {
    "ExecuteTime": {
     "end_time": "2020-08-26T07:02:47.909080Z",
     "start_time": "2020-08-26T07:02:47.886093Z"
    }
   },
   "outputs": [
    {
     "data": {
      "text/plain": [
       "array([[537,   0,   0,   0,   0,   0],\n",
       "       [  0, 370, 121,   0,   0,   0],\n",
       "       [  0,  56, 476,   0,   0,   0],\n",
       "       [  0,   0,   0, 470,  17,   9],\n",
       "       [  0,   0,   0,  13, 351,  56],\n",
       "       [  0,   0,   0,  75,  31, 365]], dtype=int64)"
      ]
     },
     "execution_count": 24,
     "metadata": {},
     "output_type": "execute_result"
    }
   ],
   "source": [
    "confusion_matrix(y_test, y_pred)"
   ]
  },
  {
   "cell_type": "markdown",
   "metadata": {},
   "source": [
    "### feature importace"
   ]
  },
  {
   "cell_type": "code",
   "execution_count": 25,
   "metadata": {
    "ExecuteTime": {
     "end_time": "2020-08-26T07:02:50.011671Z",
     "start_time": "2020-08-26T07:02:49.430075Z"
    }
   },
   "outputs": [
    {
     "data": {
      "image/png": "[encoded data removed]",
      "text/plain": [
       "<Figure size 576x432 with 1 Axes>"
      ]
     },
     "metadata": {
      "needs_background": "light"
     },
     "output_type": "display_data"
    }
   ],
   "source": [
    "import seaborn as sns\n",
    "\n",
    "ftr_importances_values = dt_clf_rs.best_estimator_.feature_importances_\n",
    "\n",
    "ftr_importances = pd.Series(ftr_importances_values, index=X_train.columns  )\n",
    "\n",
    "# 중요도값 순으로 Series를 정렬\n",
    "ftr_top20 = ftr_importances.sort_values(ascending=False)[:20]\n",
    "plt.figure(figsize=(8,6))\n",
    "plt.title('Feature importances Top 20')\n",
    "sns.barplot(x=ftr_top20 , y = ftr_top20.index)\n",
    "plt.show()"
   ]
  },
  {
   "cell_type": "markdown",
   "metadata": {},
   "source": [
    "## RandomForest + hyperparameter tuning + cross validation"
   ]
  },
  {
   "cell_type": "code",
   "execution_count": 53,
   "metadata": {
    "ExecuteTime": {
     "end_time": "2020-08-26T07:46:14.285305Z",
     "start_time": "2020-08-26T07:46:03.271134Z"
    }
   },
   "outputs": [],
   "source": [
    "from sklearn.ensemble import RandomForestClassifier\n",
    "\n",
    "rforest = RandomForestClassifier(n_estimators=100, random_state=0)\n",
    "rforest.fit(X_train, y_train)\n",
    "pred_rf = rforest.predict(X_test)"
   ]
  },
  {
   "cell_type": "code",
   "execution_count": 54,
   "metadata": {
    "ExecuteTime": {
     "end_time": "2020-08-26T07:46:15.931470Z",
     "start_time": "2020-08-26T07:46:15.918477Z"
    }
   },
   "outputs": [
    {
     "data": {
      "text/plain": [
       "0.9253478113335596"
      ]
     },
     "execution_count": 54,
     "metadata": {},
     "output_type": "execute_result"
    }
   ],
   "source": [
    "accuracy_score(y_test, pred_rf)"
   ]
  },
  {
   "cell_type": "markdown",
   "metadata": {},
   "source": [
    "### hyperparameter tuning"
   ]
  },
  {
   "cell_type": "code",
   "execution_count": null,
   "metadata": {
    "ExecuteTime": {
     "start_time": "2020-08-26T07:57:22.887Z"
    },
    "scrolled": true
   },
   "outputs": [
    {
     "name": "stdout",
     "output_type": "stream",
     "text": [
      "Fitting 5 folds for each of 10 candidates, totalling 50 fits\n",
      "[CV] n_estimators=90, max_depth=14 ...................................\n"
     ]
    },
    {
     "name": "stderr",
     "output_type": "stream",
     "text": [
      "[Parallel(n_jobs=1)]: Using backend SequentialBackend with 1 concurrent workers.\n"
     ]
    },
    {
     "name": "stdout",
     "output_type": "stream",
     "text": [
      "[CV] .................... n_estimators=90, max_depth=14, total=   7.5s\n",
      "[CV] n_estimators=90, max_depth=14 ...................................\n"
     ]
    },
    {
     "name": "stderr",
     "output_type": "stream",
     "text": [
      "[Parallel(n_jobs=1)]: Done   1 out of   1 | elapsed:    7.4s remaining:    0.0s\n"
     ]
    },
    {
     "name": "stdout",
     "output_type": "stream",
     "text": [
      "[CV] .................... n_estimators=90, max_depth=14, total=   7.5s\n",
      "[CV] n_estimators=90, max_depth=14 ...................................\n",
      "[CV] .................... n_estimators=90, max_depth=14, total=   7.4s\n",
      "[CV] n_estimators=90, max_depth=14 ...................................\n",
      "[CV] .................... n_estimators=90, max_depth=14, total=   7.4s\n",
      "[CV] n_estimators=90, max_depth=14 ...................................\n",
      "[CV] .................... n_estimators=90, max_depth=14, total=   7.5s\n",
      "[CV] n_estimators=50, max_depth=14 ...................................\n",
      "[CV] .................... n_estimators=50, max_depth=14, total=   4.0s\n",
      "[CV] n_estimators=50, max_depth=14 ...................................\n",
      "[CV] .................... n_estimators=50, max_depth=14, total=   4.1s\n",
      "[CV] n_estimators=50, max_depth=14 ...................................\n",
      "[CV] .................... n_estimators=50, max_depth=14, total=   4.4s\n",
      "[CV] n_estimators=50, max_depth=14 ...................................\n",
      "[CV] .................... n_estimators=50, max_depth=14, total=   4.8s\n",
      "[CV] n_estimators=50, max_depth=14 ...................................\n",
      "[CV] .................... n_estimators=50, max_depth=14, total=   4.5s\n",
      "[CV] n_estimators=20, max_depth=2 ....................................\n",
      "[CV] ..................... n_estimators=20, max_depth=2, total=   0.5s\n",
      "[CV] n_estimators=20, max_depth=2 ....................................\n",
      "[CV] ..................... n_estimators=20, max_depth=2, total=   0.5s\n",
      "[CV] n_estimators=20, max_depth=2 ....................................\n",
      "[CV] ..................... n_estimators=20, max_depth=2, total=   0.5s\n",
      "[CV] n_estimators=20, max_depth=2 ....................................\n",
      "[CV] ..................... n_estimators=20, max_depth=2, total=   0.5s\n",
      "[CV] n_estimators=20, max_depth=2 ....................................\n",
      "[CV] ..................... n_estimators=20, max_depth=2, total=   0.5s\n",
      "[CV] n_estimators=90, max_depth=10 ...................................\n",
      "[CV] .................... n_estimators=90, max_depth=10, total=   6.7s\n",
      "[CV] n_estimators=90, max_depth=10 ...................................\n",
      "[CV] .................... n_estimators=90, max_depth=10, total=   6.7s\n",
      "[CV] n_estimators=90, max_depth=10 ...................................\n",
      "[CV] .................... n_estimators=90, max_depth=10, total=   6.6s\n",
      "[CV] n_estimators=90, max_depth=10 ...................................\n",
      "[CV] .................... n_estimators=90, max_depth=10, total=   6.8s\n",
      "[CV] n_estimators=90, max_depth=10 ...................................\n",
      "[CV] .................... n_estimators=90, max_depth=10, total=   6.8s\n",
      "[CV] n_estimators=70, max_depth=2 ....................................\n",
      "[CV] ..................... n_estimators=70, max_depth=2, total=   1.5s\n",
      "[CV] n_estimators=70, max_depth=2 ....................................\n",
      "[CV] ..................... n_estimators=70, max_depth=2, total=   1.5s\n",
      "[CV] n_estimators=70, max_depth=2 ....................................\n",
      "[CV] ..................... n_estimators=70, max_depth=2, total=   1.5s\n",
      "[CV] n_estimators=70, max_depth=2 ....................................\n",
      "[CV] ..................... n_estimators=70, max_depth=2, total=   1.5s\n",
      "[CV] n_estimators=70, max_depth=2 ....................................\n",
      "[CV] ..................... n_estimators=70, max_depth=2, total=   1.5s\n",
      "[CV] n_estimators=20, max_depth=10 ...................................\n",
      "[CV] .................... n_estimators=20, max_depth=10, total=   1.5s\n",
      "[CV] n_estimators=20, max_depth=10 ...................................\n",
      "[CV] .................... n_estimators=20, max_depth=10, total=   1.5s\n",
      "[CV] n_estimators=20, max_depth=10 ...................................\n"
     ]
    }
   ],
   "source": [
    "from sklearn.model_selection import RandomizedSearchCV\n",
    "\n",
    "params = {\n",
    "    'n_estimators': np.arange(20, 101, 10),\n",
    "    'max_depth': np.arange(2, 16, 2)\n",
    "}\n",
    "\n",
    "rf_ranCV = RandomForestClassifier()\n",
    "ran_rf = RandomizedSearchCV(\n",
    "    rf_ranCV,\n",
    "    params,\n",
    "    random_state=42,\n",
    "    verbose=2,\n",
    ")\n",
    "ran_rf.fit(X_train, y_train)\n",
    "pred_rfCV.ran_rf(X_test)"
   ]
  },
  {
   "cell_type": "code",
   "execution_count": 60,
   "metadata": {
    "ExecuteTime": {
     "end_time": "2020-08-26T07:53:34.361324Z",
     "start_time": "2020-08-26T07:53:34.346331Z"
    }
   },
   "outputs": [
    {
     "name": "stdout",
     "output_type": "stream",
     "text": [
      "Best Estimator :  RandomForestClassifier(bootstrap=True, ccp_alpha=0.0, class_weight=None,\n",
      "                       criterion='gini', max_depth=10, max_features='auto',\n",
      "                       max_leaf_nodes=None, max_samples=None,\n",
      "                       min_impurity_decrease=0.0, min_impurity_split=None,\n",
      "                       min_samples_leaf=1, min_samples_split=2,\n",
      "                       min_weight_fraction_leaf=0.0, n_estimators=30,\n",
      "                       n_jobs=None, oob_score=False, random_state=None,\n",
      "                       verbose=0, warm_start=False)\n",
      "Best Parameters :  {'n_estimators': 30, 'max_depth': 10}\n",
      "Best Score :  0.9196181967008421\n"
     ]
    }
   ],
   "source": [
    "print(\"Best Estimator : \", ran_rf.best_estimator_)\n",
    "print(\"Best Parameters : \", ran_rf.best_params_)\n",
    "print(\"Best Score : \", ran_rf.best_score_)"
   ]
  },
  {
   "cell_type": "code",
   "execution_count": 61,
   "metadata": {
    "ExecuteTime": {
     "end_time": "2020-08-26T07:53:46.884157Z",
     "start_time": "2020-08-26T07:53:46.842184Z"
    }
   },
   "outputs": [],
   "source": [
    "pred_rfCV = ran_rf.predict(X_test)\n",
    "\n"
   ]
  },
  {
   "cell_type": "code",
   "execution_count": 62,
   "metadata": {
    "ExecuteTime": {
     "end_time": "2020-08-26T07:53:47.248010Z",
     "start_time": "2020-08-26T07:53:47.225705Z"
    }
   },
   "outputs": [
    {
     "data": {
      "text/plain": [
       "0.9199185612487275"
      ]
     },
     "execution_count": 62,
     "metadata": {},
     "output_type": "execute_result"
    }
   ],
   "source": [
    "accuracy_score(y_test, pred_rfCV)"
   ]
  },
  {
   "cell_type": "code",
   "execution_count": null,
   "metadata": {},
   "outputs": [],
   "source": []
  }
 ],
 "metadata": {
  "kernelspec": {
   "display_name": "Python 3",
   "language": "python",
   "name": "python3"
  },
  "language_info": {
   "codemirror_mode": {
    "name": "ipython",
    "version": 3
   },
   "file_extension": ".py",
   "mimetype": "text/x-python",
   "name": "python",
   "nbconvert_exporter": "python",
   "pygments_lexer": "ipython3",
   "version": "3.7.6"
  },
  "toc": {
   "base_numbering": 1,
   "nav_menu": {},
   "number_sections": true,
   "sideBar": true,
   "skip_h1_title": false,
   "title_cell": "Table of Contents",
   "title_sidebar": "Contents",
   "toc_cell": false,
   "toc_position": {},
   "toc_section_display": true,
   "toc_window_display": false
  },
  "varInspector": {
   "cols": {
    "lenName": 16,
    "lenType": 16,
    "lenVar": 40
   },
   "kernels_config": {
    "python": {
     "delete_cmd_postfix": "",
     "delete_cmd_prefix": "del ",
     "library": "var_list.py",
     "varRefreshCmd": "print(var_dic_list())"
    },
    "r": {
     "delete_cmd_postfix": ") ",
     "delete_cmd_prefix": "rm(",
     "library": "var_list.r",
     "varRefreshCmd": "cat(var_dic_list()) "
    }
   },
   "types_to_exclude": [
    "module",
    "function",
    "builtin_function_or_method",
    "instance",
    "_Feature"
   ],
   "window_display": false
  }
 },
 "nbformat": 4,
 "nbformat_minor": 2
}
