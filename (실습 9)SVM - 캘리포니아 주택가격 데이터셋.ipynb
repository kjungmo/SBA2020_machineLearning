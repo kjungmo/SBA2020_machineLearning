{
 "cells": [
  {
   "cell_type": "markdown",
   "metadata": {},
   "source": [
    "## 캘리포니아 주택 가격 데이터셋에 SVM 회귀를 훈련"
   ]
  },
  {
   "cell_type": "markdown",
   "metadata": {},
   "source": [
    "* 데이터 준비"
   ]
  },
  {
   "cell_type": "code",
   "execution_count": 7,
   "metadata": {},
   "outputs": [
    {
     "name": "stderr",
     "output_type": "stream",
     "text": [
      "Downloading Cal. housing from https://ndownloader.figshare.com/files/5976036 to C:\\Users\\edu\\scikit_learn_data\n"
     ]
    }
   ],
   "source": [
    "from sklearn.datasets import fetch_california_housing\n",
    "\n",
    "housing = fetch_california_housing()\n",
    "X = housing[\"data\"]\n",
    "y = housing[\"target\"]"
   ]
  },
  {
   "cell_type": "markdown",
   "metadata": {},
   "source": [
    "* 훈련 세트와 테스트 세트 분리"
   ]
  },
  {
   "cell_type": "code",
   "execution_count": 8,
   "metadata": {},
   "outputs": [],
   "source": [
    "from sklearn.model_selection import train_test_split\n",
    "\n",
    "X_train, X_test, y_train, y_test = train_test_split(X, y, test_size=0.2, random_state=42)"
   ]
  },
  {
   "cell_type": "markdown",
   "metadata": {},
   "source": [
    "* 데이터의 스케일을 조정"
   ]
  },
  {
   "cell_type": "code",
   "execution_count": 9,
   "metadata": {},
   "outputs": [],
   "source": [
    "from sklearn.preprocessing import StandardScaler\n",
    "\n",
    "scaler = StandardScaler()\n",
    "X_train_scaled = scaler.fit_transform(X_train)\n",
    "X_test_scaled = scaler.transform(X_test)"
   ]
  },
  {
   "cell_type": "markdown",
   "metadata": {},
   "source": [
    "* `LinearSVR`로 훈련"
   ]
  },
  {
   "cell_type": "code",
   "execution_count": 10,
   "metadata": {},
   "outputs": [
    {
     "name": "stderr",
     "output_type": "stream",
     "text": [
      "C:\\Users\\edu\\anaconda3\\lib\\site-packages\\sklearn\\svm\\_base.py:947: ConvergenceWarning: Liblinear failed to converge, increase the number of iterations.\n",
      "  \"the number of iterations.\", ConvergenceWarning)\n"
     ]
    },
    {
     "data": {
      "text/plain": [
       "LinearSVR(C=1.0, dual=True, epsilon=0.0, fit_intercept=True,\n",
       "          intercept_scaling=1.0, loss='epsilon_insensitive', max_iter=1000,\n",
       "          random_state=42, tol=0.0001, verbose=0)"
      ]
     },
     "execution_count": 10,
     "metadata": {},
     "output_type": "execute_result"
    }
   ],
   "source": [
    "from sklearn.svm import LinearSVR\n",
    "\n",
    "lin_svr = LinearSVR(random_state=42)\n",
    "lin_svr.fit(X_train_scaled, y_train)"
   ]
  },
  {
   "cell_type": "markdown",
   "metadata": {},
   "source": [
    "* 훈련 세트에 대한 성능 확인"
   ]
  },
  {
   "cell_type": "code",
   "execution_count": 11,
   "metadata": {},
   "outputs": [
    {
     "data": {
      "text/plain": [
       "0.9612806653297272"
      ]
     },
     "execution_count": 11,
     "metadata": {},
     "output_type": "execute_result"
    }
   ],
   "source": [
    "from sklearn.metrics import mean_squared_error\n",
    "\n",
    "y_pred = lin_svr.predict(X_train_scaled)\n",
    "mse = mean_squared_error(y_train, y_pred)\n",
    "mse"
   ]
  },
  {
   "cell_type": "markdown",
   "metadata": {},
   "source": [
    "* RMSE 확인"
   ]
  },
  {
   "cell_type": "code",
   "execution_count": 12,
   "metadata": {},
   "outputs": [
    {
     "data": {
      "text/plain": [
       "0.9804492160890982"
      ]
     },
     "execution_count": 12,
     "metadata": {},
     "output_type": "execute_result"
    }
   ],
   "source": [
    "np.sqrt(mse)"
   ]
  },
  {
   "cell_type": "markdown",
   "metadata": {},
   "source": [
    "* 하이퍼파라미터 `C`와 `gamma`의 적절한 값을 찾기 위해 랜덤 서치"
   ]
  },
  {
   "cell_type": "code",
   "execution_count": 13,
   "metadata": {},
   "outputs": [
    {
     "name": "stdout",
     "output_type": "stream",
     "text": [
      "Fitting 3 folds for each of 10 candidates, totalling 30 fits\n",
      "[CV] C=4.745401188473625, gamma=0.07969454818643928 ..................\n"
     ]
    },
    {
     "name": "stderr",
     "output_type": "stream",
     "text": [
      "[Parallel(n_jobs=1)]: Using backend SequentialBackend with 1 concurrent workers.\n"
     ]
    },
    {
     "name": "stdout",
     "output_type": "stream",
     "text": [
      "[CV] ... C=4.745401188473625, gamma=0.07969454818643928, total=   7.2s\n",
      "[CV] C=4.745401188473625, gamma=0.07969454818643928 ..................\n"
     ]
    },
    {
     "name": "stderr",
     "output_type": "stream",
     "text": [
      "[Parallel(n_jobs=1)]: Done   1 out of   1 | elapsed:    7.1s remaining:    0.0s\n"
     ]
    },
    {
     "name": "stdout",
     "output_type": "stream",
     "text": [
      "[CV] ... C=4.745401188473625, gamma=0.07969454818643928, total=   7.2s\n",
      "[CV] C=4.745401188473625, gamma=0.07969454818643928 ..................\n",
      "[CV] ... C=4.745401188473625, gamma=0.07969454818643928, total=   7.2s\n",
      "[CV] C=8.31993941811405, gamma=0.015751320499779724 ..................\n",
      "[CV] ... C=8.31993941811405, gamma=0.015751320499779724, total=   6.8s\n",
      "[CV] C=8.31993941811405, gamma=0.015751320499779724 ..................\n",
      "[CV] ... C=8.31993941811405, gamma=0.015751320499779724, total=   6.7s\n",
      "[CV] C=8.31993941811405, gamma=0.015751320499779724 ..................\n",
      "[CV] ... C=8.31993941811405, gamma=0.015751320499779724, total=   6.7s\n",
      "[CV] C=2.560186404424365, gamma=0.002051110418843397 .................\n",
      "[CV] .. C=2.560186404424365, gamma=0.002051110418843397, total=   6.2s\n",
      "[CV] C=2.560186404424365, gamma=0.002051110418843397 .................\n",
      "[CV] .. C=2.560186404424365, gamma=0.002051110418843397, total=   6.3s\n",
      "[CV] C=2.560186404424365, gamma=0.002051110418843397 .................\n",
      "[CV] .. C=2.560186404424365, gamma=0.002051110418843397, total=   6.3s\n",
      "[CV] C=1.5808361216819946, gamma=0.05399484409787431 .................\n",
      "[CV] .. C=1.5808361216819946, gamma=0.05399484409787431, total=   6.4s\n",
      "[CV] C=1.5808361216819946, gamma=0.05399484409787431 .................\n",
      "[CV] .. C=1.5808361216819946, gamma=0.05399484409787431, total=   6.3s\n",
      "[CV] C=1.5808361216819946, gamma=0.05399484409787431 .................\n",
      "[CV] .. C=1.5808361216819946, gamma=0.05399484409787431, total=   6.3s\n",
      "[CV] C=7.011150117432088, gamma=0.026070247583707663 .................\n",
      "[CV] .. C=7.011150117432088, gamma=0.026070247583707663, total=   6.6s\n",
      "[CV] C=7.011150117432088, gamma=0.026070247583707663 .................\n",
      "[CV] .. C=7.011150117432088, gamma=0.026070247583707663, total=   6.6s\n",
      "[CV] C=7.011150117432088, gamma=0.026070247583707663 .................\n",
      "[CV] .. C=7.011150117432088, gamma=0.026070247583707663, total=   6.7s\n",
      "[CV] C=1.2058449429580245, gamma=0.0870602087830485 ..................\n",
      "[CV] ... C=1.2058449429580245, gamma=0.0870602087830485, total=   6.0s\n",
      "[CV] C=1.2058449429580245, gamma=0.0870602087830485 ..................\n",
      "[CV] ... C=1.2058449429580245, gamma=0.0870602087830485, total=   6.1s\n",
      "[CV] C=1.2058449429580245, gamma=0.0870602087830485 ..................\n",
      "[CV] ... C=1.2058449429580245, gamma=0.0870602087830485, total=   6.1s\n",
      "[CV] C=9.324426408004218, gamma=0.0026587543983272693 ................\n",
      "[CV] . C=9.324426408004218, gamma=0.0026587543983272693, total=   6.3s\n",
      "[CV] C=9.324426408004218, gamma=0.0026587543983272693 ................\n",
      "[CV] . C=9.324426408004218, gamma=0.0026587543983272693, total=   6.3s\n",
      "[CV] C=9.324426408004218, gamma=0.0026587543983272693 ................\n",
      "[CV] . C=9.324426408004218, gamma=0.0026587543983272693, total=   6.3s\n",
      "[CV] C=2.818249672071006, gamma=0.0023270677083837795 ................\n",
      "[CV] . C=2.818249672071006, gamma=0.0023270677083837795, total=   6.1s\n",
      "[CV] C=2.818249672071006, gamma=0.0023270677083837795 ................\n",
      "[CV] . C=2.818249672071006, gamma=0.0023270677083837795, total=   6.2s\n",
      "[CV] C=2.818249672071006, gamma=0.0023270677083837795 ................\n",
      "[CV] . C=2.818249672071006, gamma=0.0023270677083837795, total=   6.2s\n",
      "[CV] C=4.042422429595377, gamma=0.011207606211860567 .................\n",
      "[CV] .. C=4.042422429595377, gamma=0.011207606211860567, total=   6.2s\n",
      "[CV] C=4.042422429595377, gamma=0.011207606211860567 .................\n",
      "[CV] .. C=4.042422429595377, gamma=0.011207606211860567, total=   6.2s\n",
      "[CV] C=4.042422429595377, gamma=0.011207606211860567 .................\n",
      "[CV] .. C=4.042422429595377, gamma=0.011207606211860567, total=   6.2s\n",
      "[CV] C=5.319450186421157, gamma=0.003823475224675185 .................\n",
      "[CV] .. C=5.319450186421157, gamma=0.003823475224675185, total=   6.2s\n",
      "[CV] C=5.319450186421157, gamma=0.003823475224675185 .................\n",
      "[CV] .. C=5.319450186421157, gamma=0.003823475224675185, total=   6.2s\n",
      "[CV] C=5.319450186421157, gamma=0.003823475224675185 .................\n",
      "[CV] .. C=5.319450186421157, gamma=0.003823475224675185, total=   6.2s\n"
     ]
    },
    {
     "name": "stderr",
     "output_type": "stream",
     "text": [
      "[Parallel(n_jobs=1)]: Done  30 out of  30 | elapsed:  3.2min finished\n"
     ]
    },
    {
     "data": {
      "text/plain": [
       "RandomizedSearchCV(cv=3, error_score=nan,\n",
       "                   estimator=SVR(C=1.0, cache_size=200, coef0=0.0, degree=3,\n",
       "                                 epsilon=0.1, gamma='scale', kernel='rbf',\n",
       "                                 max_iter=-1, shrinking=True, tol=0.001,\n",
       "                                 verbose=False),\n",
       "                   iid='deprecated', n_iter=10, n_jobs=None,\n",
       "                   param_distributions={'C': <scipy.stats._distn_infrastructure.rv_frozen object at 0x000001E231A92D08>,\n",
       "                                        'gamma': <scipy.stats._distn_infrastructure.rv_frozen object at 0x000001E231A7FF48>},\n",
       "                   pre_dispatch='2*n_jobs', random_state=42, refit=True,\n",
       "                   return_train_score=False, scoring=None, verbose=2)"
      ]
     },
     "execution_count": 13,
     "metadata": {},
     "output_type": "execute_result"
    }
   ],
   "source": [
    "from sklearn.svm import SVR\n",
    "from sklearn.model_selection import RandomizedSearchCV\n",
    "from scipy.stats import reciprocal, uniform\n",
    "\n",
    "param_distributions = {\"gamma\": reciprocal(0.001, 0.1), \"C\": uniform(1, 10)}\n",
    "rnd_search_cv = RandomizedSearchCV(SVR(), param_distributions, n_iter=10, verbose=2, cv=3, random_state=42)\n",
    "rnd_search_cv.fit(X_train_scaled, y_train)"
   ]
  },
  {
   "cell_type": "code",
   "execution_count": 16,
   "metadata": {},
   "outputs": [
    {
     "data": {
      "text/plain": [
       "SVR(C=4.745401188473625, cache_size=200, coef0=0.0, degree=3, epsilon=0.1,\n",
       "    gamma=0.07969454818643928, kernel='rbf', max_iter=-1, shrinking=True,\n",
       "    tol=0.001, verbose=False)"
      ]
     },
     "execution_count": 16,
     "metadata": {},
     "output_type": "execute_result"
    }
   ],
   "source": [
    "rnd_search_cv.best_estimator_"
   ]
  },
  {
   "cell_type": "markdown",
   "metadata": {},
   "source": [
    "* RMSE를 측정(훈련 세트로)"
   ]
  },
  {
   "cell_type": "code",
   "execution_count": 17,
   "metadata": {},
   "outputs": [
    {
     "data": {
      "text/plain": [
       "0.572752477078536"
      ]
     },
     "execution_count": 17,
     "metadata": {},
     "output_type": "execute_result"
    }
   ],
   "source": [
    "y_pred = rnd_search_cv.best_estimator_.predict(X_train_scaled)\n",
    "mse = mean_squared_error(y_train, y_pred)\n",
    "np.sqrt(mse)"
   ]
  },
  {
   "cell_type": "markdown",
   "metadata": {},
   "source": [
    "* 테스트 세트에서 평가"
   ]
  },
  {
   "cell_type": "code",
   "execution_count": 18,
   "metadata": {},
   "outputs": [
    {
     "data": {
      "text/plain": [
       "0.5929168385528742"
      ]
     },
     "execution_count": 18,
     "metadata": {},
     "output_type": "execute_result"
    }
   ],
   "source": [
    "y_pred = rnd_search_cv.best_estimator_.predict(X_test_scaled)\n",
    "mse = mean_squared_error(y_test, y_pred)\n",
    "np.sqrt(mse)"
   ]
  },
  {
   "cell_type": "code",
   "execution_count": null,
   "metadata": {},
   "outputs": [],
   "source": []
  }
 ],
 "metadata": {
  "kernelspec": {
   "display_name": "Python 3",
   "language": "python",
   "name": "python3"
  },
  "language_info": {
   "codemirror_mode": {
    "name": "ipython",
    "version": 3
   },
   "file_extension": ".py",
   "mimetype": "text/x-python",
   "name": "python",
   "nbconvert_exporter": "python",
   "pygments_lexer": "ipython3",
   "version": "3.7.6"
  },
  "nav_menu": {},
  "toc": {
   "base_numbering": 1,
   "nav_menu": {},
   "number_sections": true,
   "sideBar": true,
   "skip_h1_title": false,
   "title_cell": "Table of Contents",
   "title_sidebar": "Contents",
   "toc_cell": false,
   "toc_position": {},
   "toc_section_display": "block",
   "toc_window_display": false
  },
  "varInspector": {
   "cols": {
    "lenName": 16,
    "lenType": 16,
    "lenVar": 40
   },
   "kernels_config": {
    "python": {
     "delete_cmd_postfix": "",
     "delete_cmd_prefix": "del ",
     "library": "var_list.py",
     "varRefreshCmd": "print(var_dic_list())"
    },
    "r": {
     "delete_cmd_postfix": ") ",
     "delete_cmd_prefix": "rm(",
     "library": "var_list.r",
     "varRefreshCmd": "cat(var_dic_list()) "
    }
   },
   "types_to_exclude": [
    "module",
    "function",
    "builtin_function_or_method",
    "instance",
    "_Feature"
   ],
   "window_display": false
  }
 },
 "nbformat": 4,
 "nbformat_minor": 1
}
