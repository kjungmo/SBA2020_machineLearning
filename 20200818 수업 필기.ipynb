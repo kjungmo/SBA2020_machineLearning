{
 "cells": [
  {
   "cell_type": "markdown",
   "metadata": {},
   "source": [
    "## 머신러닝 프로젝트 체크리스트\n",
    "* 문제를 정의하고 큰 그림을 그립니다\n",
    "* 데이터를 수집합니다\n",
    "* 데이터를 탐색합니다\n",
    "* 데이터를 준비합니다\n",
    "* 가능성있는 몇개의 모델을 고릅니다\n",
    "* 시스템 세밀하게 튜닝\n",
    "* 솔루션 출시\n",
    "* 시스템 론칭\n",
    "\n",
    "# 문제 정의, 데이터 수집\n",
    "* 문제 정의 \n",
    "\t* 특성은 미국의 인구 조사국에서 데이터 조사 했다. 캘리포니아 주택 가격 예측 모델을 만들고자 한다. 한 집단으로 한게 아니라 블록단위로 조사를 했다. 600명~3000명 정도로 구성된 블록. 지리적인 단위로 블록을 쪼갰다. 구역이라고 부르겠다. 구역별로 한 집에 대해서 예측을 하는게 아니라 구역별로 예측을 하는 것이다(집값을) 좋은 지역에는 사람 많이 살고 선호 할 것이다. \n",
    "\n",
    "* 연속된 값을 예측하므로 회귀 문제이다. 특히 여러 특성을 사용하므로 다중 회귀, 하나의 값을 예측하므로 단변량 회귀. \n",
    "\n",
    "median house value 기억해둬라\n",
    "중간값을 레이블링 했다. 구역 내의 중간값. 중간 가격. \n",
    "\n",
    "total rooms는 구역안에 방이 이렇게 몇개가 총 존재한다. \n",
    "\n",
    "households는 가구수. 한 구역당 이런 수치의 가구가 있다. \n",
    "\n",
    "# 데이터 훑어보기 (4)\n",
    "bins=50는 막대기가 50개 라는 것\n",
    "\n",
    "정규분포는 뭘까? \n",
    "\n",
    "제한해버려서 마지막 값이 엄청 커져있다.\n",
    "\n",
    "# 샘플링 편향 문제(1)\n",
    "\n",
    "무작위 (랜덤하게 무작위로 지정해서 80:20 비율로 나온다)\n",
    "데이터셋이 충분히 크면 무작위로 괜찮지만\n",
    "그렇지 않으면 샘플링 편향 발생가능.\n",
    "\n",
    "\n",
    "# 샘플링 편향 문제(2)\n",
    "이산화 하면 오른쪽 처럼 된다.\n",
    "income을 categorize한 것이다. \n",
    "\n",
    "# 샘플링 편향 문제(3)\n",
    "\n",
    "stratifiedKFold라는 함수 사용한다. 나누는 기준을 만들어둔 infome_cat을 사용\n",
    "\n",
    "stratifiedKFold계층별로 셔플링을 랜덤하게 섞어주는 함수\n",
    "\n",
    "전체 income category를 잘 반영해주고 있는 것이  strat_test_set이다\n",
    "train_set는 좀 다르다. \n",
    "\n",
    "\n"
   ]
  },
  {
   "cell_type": "code",
   "execution_count": null,
   "metadata": {},
   "outputs": [],
   "source": []
  }
 ],
 "metadata": {
  "kernelspec": {
   "display_name": "Python 3",
   "language": "python",
   "name": "python3"
  },
  "language_info": {
   "codemirror_mode": {
    "name": "ipython",
    "version": 3
   },
   "file_extension": ".py",
   "mimetype": "text/x-python",
   "name": "python",
   "nbconvert_exporter": "python",
   "pygments_lexer": "ipython3",
   "version": "3.7.6"
  },
  "toc": {
   "base_numbering": 1,
   "nav_menu": {},
   "number_sections": true,
   "sideBar": true,
   "skip_h1_title": false,
   "title_cell": "Table of Contents",
   "title_sidebar": "Contents",
   "toc_cell": false,
   "toc_position": {},
   "toc_section_display": true,
   "toc_window_display": false
  },
  "varInspector": {
   "cols": {
    "lenName": 16,
    "lenType": 16,
    "lenVar": 40
   },
   "kernels_config": {
    "python": {
     "delete_cmd_postfix": "",
     "delete_cmd_prefix": "del ",
     "library": "var_list.py",
     "varRefreshCmd": "print(var_dic_list())"
    },
    "r": {
     "delete_cmd_postfix": ") ",
     "delete_cmd_prefix": "rm(",
     "library": "var_list.r",
     "varRefreshCmd": "cat(var_dic_list()) "
    }
   },
   "types_to_exclude": [
    "module",
    "function",
    "builtin_function_or_method",
    "instance",
    "_Feature"
   ],
   "window_display": false
  }
 },
 "nbformat": 4,
 "nbformat_minor": 4
}
